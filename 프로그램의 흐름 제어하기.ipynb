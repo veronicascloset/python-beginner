{
 "cells": [
  {
   "cell_type": "markdown",
   "id": "824a971a",
   "metadata": {},
   "source": [
    "# if"
   ]
  },
  {
   "cell_type": "markdown",
   "id": "74e35a7c",
   "metadata": {},
   "source": [
    "## if~else"
   ]
  },
  {
   "cell_type": "code",
   "execution_count": 2,
   "id": "17a76a45",
   "metadata": {},
   "outputs": [
    {
     "name": "stdout",
     "output_type": "stream",
     "text": [
      "점수 : 30\n",
      "not accept\n"
     ]
    }
   ],
   "source": [
    "score = int(input('점수 : '))\n",
    "if score>=60:\n",
    "    print('accept')\n",
    "else:\n",
    "    print('not accept')\n",
    "    "
   ]
  },
  {
   "cell_type": "markdown",
   "id": "eb742558",
   "metadata": {},
   "source": [
    "## if ~ elif ~ else"
   ]
  },
  {
   "cell_type": "code",
   "execution_count": 6,
   "id": "98575f0a",
   "metadata": {
    "scrolled": true
   },
   "outputs": [
    {
     "name": "stdout",
     "output_type": "stream",
     "text": [
      "점수 : 60\n",
      "grade: d\n"
     ]
    }
   ],
   "source": [
    "score = int(input('점수 : '))\n",
    "if score>=90:\n",
    "    grade='a'\n",
    "elif score>=80:\n",
    "    grade='b'\n",
    "elif score>=70:\n",
    "    grade='c'\n",
    "elif score>=60:\n",
    "    grade='d'\n",
    "else:\n",
    "    grade='e'\n",
    "    \n",
    "print('grade:', grade)\n",
    "    "
   ]
  },
  {
   "cell_type": "markdown",
   "id": "9e6be362",
   "metadata": {},
   "source": [
    "b등급 이하를 표기할 때 80~89사이라는 조건문을 쓰지 않고 80이상이라는 하나의 조건문만 써도 등급 분별이 되는 이유 : \n",
    "if 문 특성상 위에서 조건이 충족하면 아래의 조건문은 확인하지 않기 때문에 등급의 하한선만 조건문으로 내세워도 등급 표기가 가능하다."
   ]
  },
  {
   "cell_type": "code",
   "execution_count": 10,
   "id": "bba7df40",
   "metadata": {},
   "outputs": [
    {
     "name": "stdout",
     "output_type": "stream",
     "text": [
      "정수 : 4\n",
      "even\n"
     ]
    }
   ],
   "source": [
    "num = int(input('정수 : '))\n",
    "if num%2==1:\n",
    "    print('odd')\n",
    "elif num == 0:\n",
    "    print('0')\n",
    "else:\n",
    "    print('even')"
   ]
  },
  {
   "cell_type": "markdown",
   "id": "dba9c0b1",
   "metadata": {},
   "source": [
    "# 반복구조"
   ]
  },
  {
   "cell_type": "markdown",
   "id": "cabd6243",
   "metadata": {},
   "source": [
    "## for 문"
   ]
  },
  {
   "cell_type": "code",
   "execution_count": 11,
   "id": "fb6e2206",
   "metadata": {},
   "outputs": [
    {
     "name": "stdout",
     "output_type": "stream",
     "text": [
      "1\n",
      "2\n",
      "3\n",
      "4\n",
      "5\n"
     ]
    }
   ],
   "source": [
    "for i in [1,2,3,4,5]:\n",
    "    print(i)"
   ]
  },
  {
   "cell_type": "code",
   "execution_count": 12,
   "id": "14e31453",
   "metadata": {},
   "outputs": [
    {
     "name": "stdout",
     "output_type": "stream",
     "text": [
      "p\n",
      "y\n",
      "t\n",
      "h\n",
      "o\n",
      "n\n"
     ]
    }
   ],
   "source": [
    "for i in 'python':\n",
    "    print(i)"
   ]
  },
  {
   "cell_type": "markdown",
   "id": "3e5485ed",
   "metadata": {},
   "source": [
    "### range()\n",
    "\n",
    "range(5)     => 0,1,2,3,4  \n",
    "range(1,5)   => 1,2,3,4  \n",
    "range(1,5,2) => 1,3  "
   ]
  },
  {
   "cell_type": "code",
   "execution_count": 13,
   "id": "612166ae",
   "metadata": {
    "scrolled": true
   },
   "outputs": [
    {
     "name": "stdout",
     "output_type": "stream",
     "text": [
      "0\n",
      "1\n",
      "2\n",
      "3\n",
      "4\n"
     ]
    }
   ],
   "source": [
    "for i in range(5):\n",
    "    print(i)"
   ]
  },
  {
   "cell_type": "markdown",
   "id": "726117b9",
   "metadata": {},
   "source": [
    "### 중첩반복구조"
   ]
  },
  {
   "cell_type": "code",
   "execution_count": 14,
   "id": "9ca0bb91",
   "metadata": {
    "scrolled": false
   },
   "outputs": [
    {
     "name": "stdout",
     "output_type": "stream",
     "text": [
      "0 0\n",
      "0 1\n",
      "0 2\n",
      "0 3\n",
      "1 0\n",
      "1 1\n",
      "1 2\n",
      "1 3\n",
      "2 0\n",
      "2 1\n",
      "2 2\n",
      "2 3\n"
     ]
    }
   ],
   "source": [
    "for i in range(3):\n",
    "    for j in range(4):\n",
    "        print(i,j)"
   ]
  },
  {
   "cell_type": "code",
   "execution_count": 26,
   "id": "a5bd4cff",
   "metadata": {
    "scrolled": true
   },
   "outputs": [
    {
     "name": "stdout",
     "output_type": "stream",
     "text": [
      "2*1=2\t2*2=4\t2*3=6\t2*4=8\t2*5=10\t2*6=12\t2*7=14\t2*8=16\t2*9=18\t\n",
      "3*1=3\t3*2=6\t3*3=9\t3*4=12\t3*5=15\t3*6=18\t3*7=21\t3*8=24\t3*9=27\t\n",
      "4*1=4\t4*2=8\t4*3=12\t4*4=16\t4*5=20\t4*6=24\t4*7=28\t4*8=32\t4*9=36\t\n",
      "5*1=5\t5*2=10\t5*3=15\t5*4=20\t5*5=25\t5*6=30\t5*7=35\t5*8=40\t5*9=45\t\n",
      "6*1=6\t6*2=12\t6*3=18\t6*4=24\t6*5=30\t6*6=36\t6*7=42\t6*8=48\t6*9=54\t\n",
      "7*1=7\t7*2=14\t7*3=21\t7*4=28\t7*5=35\t7*6=42\t7*7=49\t7*8=56\t7*9=63\t\n",
      "8*1=8\t8*2=16\t8*3=24\t8*4=32\t8*5=40\t8*6=48\t8*7=56\t8*8=64\t8*9=72\t\n",
      "9*1=9\t9*2=18\t9*3=27\t9*4=36\t9*5=45\t9*6=54\t9*7=63\t9*8=72\t9*9=81\t\n"
     ]
    }
   ],
   "source": [
    "\n",
    "for i in range(2,10):\n",
    "    for j in range(1,10):\n",
    "        print(f'{i}*{j}={i*j}',end='\\t')\n",
    "    print()"
   ]
  },
  {
   "cell_type": "code",
   "execution_count": 28,
   "id": "5bbba60d",
   "metadata": {
    "scrolled": true
   },
   "outputs": [
    {
     "name": "stdout",
     "output_type": "stream",
     "text": [
      "2*1=2\t3*1=3\t4*1=4\t5*1=5\t6*1=6\t7*1=7\t8*1=8\t9*1=9\t\n",
      "2*2=4\t3*2=6\t4*2=8\t5*2=10\t6*2=12\t7*2=14\t8*2=16\t9*2=18\t\n",
      "2*3=6\t3*3=9\t4*3=12\t5*3=15\t6*3=18\t7*3=21\t8*3=24\t9*3=27\t\n",
      "2*4=8\t3*4=12\t4*4=16\t5*4=20\t6*4=24\t7*4=28\t8*4=32\t9*4=36\t\n",
      "2*5=10\t3*5=15\t4*5=20\t5*5=25\t6*5=30\t7*5=35\t8*5=40\t9*5=45\t\n",
      "2*6=12\t3*6=18\t4*6=24\t5*6=30\t6*6=36\t7*6=42\t8*6=48\t9*6=54\t\n",
      "2*7=14\t3*7=21\t4*7=28\t5*7=35\t6*7=42\t7*7=49\t8*7=56\t9*7=63\t\n",
      "2*8=16\t3*8=24\t4*8=32\t5*8=40\t6*8=48\t7*8=56\t8*8=64\t9*8=72\t\n",
      "2*9=18\t3*9=27\t4*9=36\t5*9=45\t6*9=54\t7*9=63\t8*9=72\t9*9=81\t\n"
     ]
    }
   ],
   "source": [
    "\n",
    "for i in range(1,10):\n",
    "    for j in range(2,10):\n",
    "        print(f'{j}*{i}={j*i}',end='\\t')\n",
    "    print()"
   ]
  },
  {
   "cell_type": "code",
   "execution_count": 31,
   "id": "f49c9876",
   "metadata": {},
   "outputs": [
    {
     "name": "stdout",
     "output_type": "stream",
     "text": [
      "55\n"
     ]
    }
   ],
   "source": [
    "sum=0\n",
    "for i in range(1,11):\n",
    "    sum+=i\n",
    "print(sum)"
   ]
  },
  {
   "cell_type": "code",
   "execution_count": 33,
   "id": "b4e80a0d",
   "metadata": {},
   "outputs": [
    {
     "name": "stdout",
     "output_type": "stream",
     "text": [
      "2500\n"
     ]
    }
   ],
   "source": [
    "sum=0\n",
    "for i in range(1,101):\n",
    "    if i%2 == 1: \n",
    "        sum+=i\n",
    "print(sum)"
   ]
  },
  {
   "cell_type": "markdown",
   "id": "12c7a7cf",
   "metadata": {},
   "source": [
    "## while문"
   ]
  },
  {
   "cell_type": "code",
   "execution_count": 11,
   "id": "559dda9d",
   "metadata": {},
   "outputs": [
    {
     "name": "stdout",
     "output_type": "stream",
     "text": [
      "1\n",
      "2\n",
      "3\n",
      "4\n",
      "5\n"
     ]
    }
   ],
   "source": [
    "for i in [1,2,3,4,5]:\n",
    "    print(i)"
   ]
  },
  {
   "cell_type": "code",
   "execution_count": 34,
   "id": "b222e52f",
   "metadata": {},
   "outputs": [
    {
     "name": "stdout",
     "output_type": "stream",
     "text": [
      "1\n",
      "2\n",
      "3\n",
      "4\n",
      "5\n"
     ]
    }
   ],
   "source": [
    "n = 1 # 변수 초기화\n",
    "while n<=5: # 조건문\n",
    "    print(n)\n",
    "    n+=1 # 무한반복을 피하기 위해"
   ]
  },
  {
   "cell_type": "code",
   "execution_count": 38,
   "id": "167267a5",
   "metadata": {},
   "outputs": [
    {
     "name": "stdout",
     "output_type": "stream",
     "text": [
      "55\n"
     ]
    }
   ],
   "source": [
    "sum = 0\n",
    "n = 1\n",
    "while n<=10:\n",
    "    sum+=n\n",
    "    n+=1\n",
    "print(sum)"
   ]
  },
  {
   "cell_type": "markdown",
   "id": "676e237e",
   "metadata": {},
   "source": [
    "### while문만 사용 가능한 경우"
   ]
  },
  {
   "cell_type": "markdown",
   "id": "88643a26",
   "metadata": {},
   "source": [
    "횟수가 정해져 있지 않을때"
   ]
  },
  {
   "cell_type": "code",
   "execution_count": null,
   "id": "bed08c66",
   "metadata": {
    "scrolled": true
   },
   "outputs": [],
   "source": [
    "name = 'a'\n",
    "while name!='q':\n",
    "    name = input('alphabet : ')\n",
    "\n"
   ]
  },
  {
   "cell_type": "code",
   "execution_count": null,
   "id": "a4222031",
   "metadata": {
    "scrolled": true
   },
   "outputs": [],
   "source": [
    "while True:\n",
    "    name = input('name : ')\n",
    "    if name == 'q':\n",
    "        break"
   ]
  },
  {
   "cell_type": "code",
   "execution_count": 3,
   "id": "14626dfa",
   "metadata": {},
   "outputs": [
    {
     "name": "stdout",
     "output_type": "stream",
     "text": [
      "id : ㄴ\n",
      "password : 23\n",
      "check your id\n",
      "check your password\n",
      "id : ㅎ\n",
      "password : 34\n",
      "check your id\n",
      "check your password\n",
      "id : q\n",
      "password : 1234\n"
     ]
    }
   ],
   "source": [
    "id = ''\n",
    "password = ''\n",
    "while id!='q' and password != '1234':\n",
    "    id = input('id : ')\n",
    "    password = input('password : ')\n",
    "    if id != 'q':\n",
    "        print('check your id')\n",
    "    if password != '1234':\n",
    "        print('check your password')\n",
    "    \n",
    "    \n",
    "        \n"
   ]
  },
  {
   "cell_type": "code",
   "execution_count": 5,
   "id": "8adfc3b4",
   "metadata": {},
   "outputs": [
    {
     "name": "stdout",
     "output_type": "stream",
     "text": [
      "숫자를 입력하세요 : 1\n",
      "숫자를 입력하세요 : 2\n",
      "숫자를 입력하세요 : 3\n",
      "숫자를 입력하세요 : 4\n",
      "숫자를 입력하세요 : 5\n",
      "숫자를 입력하세요 : 0\n",
      "15\n"
     ]
    }
   ],
   "source": [
    "total = 0\n",
    "num = 1\n",
    "while num != 0:\n",
    "    num = int(input('숫자를 입력하세요 : '))\n",
    "    total +=num\n",
    "print(total)"
   ]
  },
  {
   "cell_type": "markdown",
   "id": "fc489f84",
   "metadata": {},
   "source": [
    "# 알고리즘 연습하기"
   ]
  },
  {
   "cell_type": "code",
   "execution_count": 10,
   "id": "69efa52d",
   "metadata": {
    "scrolled": true
   },
   "outputs": [
    {
     "name": "stdout",
     "output_type": "stream",
     "text": [
      "1~100 숫자를 입력하세요 : 50\n",
      "UP\n",
      "1~100 숫자를 입력하세요 : 75\n",
      "DOWN\n",
      "1~100 숫자를 입력하세요 : 65\n",
      "DOWN\n",
      "1~100 숫자를 입력하세요 : 60\n",
      "DOWN\n",
      "1~100 숫자를 입력하세요 : 55\n",
      "UP\n",
      "횟수초과 정답은 58\n"
     ]
    }
   ],
   "source": [
    "import random\n",
    "answer = random.randrange(1,101)\n",
    "\n",
    "input_answer = 0\n",
    "times = 0\n",
    "while answer != input_answer:\n",
    "    times +=1\n",
    "    if times>5:\n",
    "        print(f'횟수초과 정답은 {answer}')\n",
    "        break\n",
    "        \n",
    "    input_answer = int(input('1~100 숫자를 입력하세요 : '))\n",
    "\n",
    "    if input_answer>answer:\n",
    "        print('DOWN')\n",
    "    elif input_answer<answer:\n",
    "        print('UP')\n",
    "    else:\n",
    "        print('CORRECT!')\n",
    "        print(f'시도횟수 : {times}')\n"
   ]
  },
  {
   "cell_type": "code",
   "execution_count": null,
   "id": "beb784b3",
   "metadata": {
    "scrolled": true
   },
   "outputs": [],
   "source": [
    "num1 = 0\n",
    "num2 = 0\n",
    "operation = ''\n",
    "result = 0\n",
    "while True:      \n",
    "    num1 = int(input('숫자1 : '))\n",
    "    num2 = int(input('숫자2 : '))\n",
    "    operation = input('연산자 : ')\n",
    "\n",
    "    \n",
    "    if operation == '+':\n",
    "        result = num1+num2\n",
    "    elif operation == '-':\n",
    "        result = num1-num2\n",
    "    elif operation == '*':\n",
    "        result = num1*num2\n",
    "    else:\n",
    "        result = num1/num2\n",
    "    print(f'{num1} {operation} {num2} = {result}')\n",
    "    break\n",
    "    \n",
    "    \n"
   ]
  },
  {
   "cell_type": "code",
   "execution_count": 20,
   "id": "5ab39ee0",
   "metadata": {
    "scrolled": true
   },
   "outputs": [
    {
     "name": "stdout",
     "output_type": "stream",
     "text": [
      "가격(만원) : 6\n",
      "55800.0원\n"
     ]
    }
   ],
   "source": [
    "price = 0\n",
    "result=0\n",
    "while True:      \n",
    "    price = int(input('가격(만원) : '))\n",
    "    if price >=10:\n",
    "        result = price - price*0.1\n",
    "    if price >=5:\n",
    "        result = price - price*0.07\n",
    "    else:\n",
    "        result = price - price*0.05\n",
    "    print(f'{result*10000}원')\n",
    "    break\n",
    "\n",
    "    \n"
   ]
  },
  {
   "cell_type": "code",
   "execution_count": null,
   "id": "119a7914",
   "metadata": {},
   "outputs": [],
   "source": []
  }
 ],
 "metadata": {
  "kernelspec": {
   "display_name": "Python 3 (ipykernel)",
   "language": "python",
   "name": "python3"
  },
  "language_info": {
   "codemirror_mode": {
    "name": "ipython",
    "version": 3
   },
   "file_extension": ".py",
   "mimetype": "text/x-python",
   "name": "python",
   "nbconvert_exporter": "python",
   "pygments_lexer": "ipython3",
   "version": "3.9.7"
  },
  "toc": {
   "base_numbering": 1,
   "nav_menu": {},
   "number_sections": true,
   "sideBar": true,
   "skip_h1_title": false,
   "title_cell": "Table of Contents",
   "title_sidebar": "Contents",
   "toc_cell": false,
   "toc_position": {},
   "toc_section_display": true,
   "toc_window_display": false
  }
 },
 "nbformat": 4,
 "nbformat_minor": 5
}
