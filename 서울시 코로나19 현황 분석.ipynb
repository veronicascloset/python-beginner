{
 "cells": [
  {
   "cell_type": "code",
   "execution_count": 18,
   "metadata": {},
   "outputs": [],
   "source": [
    "import pandas as pd\n",
    "import matplotlib.pyplot as plt"
   ]
  },
  {
   "cell_type": "code",
   "execution_count": 19,
   "metadata": {},
   "outputs": [
    {
     "name": "stderr",
     "output_type": "stream",
     "text": [
      "/Users/cutecom/opt/anaconda3/lib/python3.9/site-packages/IPython/core/interactiveshell.py:3444: DtypeWarning: Columns (10) have mixed types.Specify dtype option on import or set low_memory=False.\n",
      "  exec(code_obj, self.user_global_ns, self.user_ns)\n"
     ]
    }
   ],
   "source": [
    "df = pd.read_csv('data/서울시 코로나19 확진자 현황.csv')"
   ]
  },
  {
   "cell_type": "code",
   "execution_count": 64,
   "metadata": {},
   "outputs": [
    {
     "name": "stdout",
     "output_type": "stream",
     "text": [
      "<class 'pandas.core.frame.DataFrame'>\n",
      "RangeIndex: 99550 entries, 0 to 99549\n",
      "Data columns (total 6 columns):\n",
      " #   Column  Non-Null Count  Dtype         \n",
      "---  ------  --------------  -----         \n",
      " 0   연번      99550 non-null  int64         \n",
      " 1   확진일     99550 non-null  datetime64[ns]\n",
      " 2   지역      99550 non-null  category      \n",
      " 3   여행력     1717 non-null   object        \n",
      " 4   접촉력     99550 non-null  object        \n",
      " 5   상태      99550 non-null  object        \n",
      "dtypes: category(1), datetime64[ns](1), int64(1), object(3)\n",
      "memory usage: 3.9+ MB\n"
     ]
    }
   ],
   "source": [
    "df.info()"
   ]
  },
  {
   "cell_type": "code",
   "execution_count": 21,
   "metadata": {},
   "outputs": [
    {
     "data": {
      "text/plain": [
       "array([nan, '나이지리아', '영국', '싱가폴', '프랑스', '러시아', '헝가리', '아랍에메리트', '중국',\n",
       "       '우즈베키스탄', '베트남', '필리핀', '미국', '카자흐스탄', '피지', '일본', ' ', '세르비아',\n",
       "       '몽골', '영국미국', '미얀마', '모로코', '사우디', '캄보디아', '폴란드', '몽고', '독일',\n",
       "       '인도네시아', '스위스', '이란', '리비아', '태국', ' 우즈베키스탄', '인도', ' 키르기즈스탄',\n",
       "       '캐나다', '모잠비크', '파키스탄', '이라크', '방글라데시', '터키', '스페인', '아랍에미리트',\n",
       "       '일본터키', '멕시코', '튀니지', '체코', '우크라이나', '네덜란드', '아르메니아', '몰타', '스웨덴',\n",
       "       '아이보리코스트', '과테말라', '브라질', '에스토니아', '아르헨티나', '슬로바키아', '세네갈', '불가리아',\n",
       "       '조지아', '키르기스스탄', '스리랑카', '파라과이', '가나', '모스크바', '네팔', '아프리카 말라위',\n",
       "       '말레이시아', '자카르타', '케냐', '쿠웨이트', 'UAE', '타지키스탄', '도미니카공화국', '아프카니스탄',\n",
       "       '시에라리온', '  ', '핀란드', '콜롬비아', '덴마크', '인도 ', '오만', '아프가니스탄', '아일랜드',\n",
       "       '이스라엘', '남아프리카공화국', '잠비아', '미국 ', '이집트', '짐바브웨', '방글라데시아랍에미리트',\n",
       "       '사우디아라비아', '마케도니아', '중국(시안)', '파푸아뉴기니(포트모르즈비)', '파푸아뉴기니', '페루',\n",
       "       '21.4.7', '강릉', '아랍에미레이트', '수단', '중국(장춘)', '아랍에미리트연합', '필리핀 ',\n",
       "       '카타르', '인도 델리', '멕시코(미국경유)', '오스트리아', '베네수엘라', '베트남 사이공', '체코 ',\n",
       "       '바레인', '아제르바이잔', '불가리아터키', '미국LA', '레바논', '러브코랄무드', '에티오피나',\n",
       "       '탄자니아', '요르단', '이탈리아', '리투아니아', '에티오피아', '모리타니아', '루마니아',\n",
       "       '인도네시아(자카르타)', '인도네시아(자카르타 경유)', '벨기에', '콩고민주공화국', '아이티공화국',\n",
       "       '스리랑카 ', '캄보디아(프노펜경유)', '미국 아틀란타', '르완다', '코트디부아르',\n",
       "       '천리교 혜성교회 생활관 거주자 집단확진', '콩고', '-', '일본(도쿄)', '미국 20년 12월 29일 입국',\n",
       "       '중복', '두바이', '폴란드에서 12.12입국', '미국 애틀란타', '호주', '미국(12.16)', '남아공',\n",
       "       '알제리', '아프리카', '유럽', '아시아', '성석교회 관련 확진자 접촉 추정', '북미', '미국 중국',\n",
       "       '남미', '홍콩', '북미 미국', '아프리카 아시아', '중남미 유럽', '오세아니아'], dtype=object)"
      ]
     },
     "execution_count": 21,
     "metadata": {},
     "output_type": "execute_result"
    }
   ],
   "source": [
    "df['여행력'].unique()"
   ]
  },
  {
   "cell_type": "code",
   "execution_count": 22,
   "metadata": {},
   "outputs": [],
   "source": [
    "df.drop(columns=['환자번호','국적','환자정보','조치사항','이동경로','등록일','수정일','노출여부'], inplace=True)"
   ]
  },
  {
   "cell_type": "code",
   "execution_count": 23,
   "metadata": {},
   "outputs": [
    {
     "data": {
      "text/html": [
       "<div>\n",
       "<style scoped>\n",
       "    .dataframe tbody tr th:only-of-type {\n",
       "        vertical-align: middle;\n",
       "    }\n",
       "\n",
       "    .dataframe tbody tr th {\n",
       "        vertical-align: top;\n",
       "    }\n",
       "\n",
       "    .dataframe thead th {\n",
       "        text-align: right;\n",
       "    }\n",
       "</style>\n",
       "<table border=\"1\" class=\"dataframe\">\n",
       "  <thead>\n",
       "    <tr style=\"text-align: right;\">\n",
       "      <th></th>\n",
       "      <th>연번</th>\n",
       "      <th>확진일</th>\n",
       "      <th>지역</th>\n",
       "      <th>여행력</th>\n",
       "      <th>접촉력</th>\n",
       "      <th>상태</th>\n",
       "    </tr>\n",
       "  </thead>\n",
       "  <tbody>\n",
       "    <tr>\n",
       "      <th>0</th>\n",
       "      <td>99550</td>\n",
       "      <td>2021-09-28</td>\n",
       "      <td>기타</td>\n",
       "      <td>NaN</td>\n",
       "      <td>감염경로 조사중</td>\n",
       "      <td>-</td>\n",
       "    </tr>\n",
       "    <tr>\n",
       "      <th>1</th>\n",
       "      <td>99549</td>\n",
       "      <td>2021-09-28</td>\n",
       "      <td>기타</td>\n",
       "      <td>NaN</td>\n",
       "      <td>감염경로 조사중</td>\n",
       "      <td>-</td>\n",
       "    </tr>\n",
       "    <tr>\n",
       "      <th>2</th>\n",
       "      <td>99548</td>\n",
       "      <td>2021-09-28</td>\n",
       "      <td>기타</td>\n",
       "      <td>NaN</td>\n",
       "      <td>감염경로 조사중</td>\n",
       "      <td>-</td>\n",
       "    </tr>\n",
       "    <tr>\n",
       "      <th>3</th>\n",
       "      <td>99547</td>\n",
       "      <td>2021-09-28</td>\n",
       "      <td>기타</td>\n",
       "      <td>NaN</td>\n",
       "      <td>감염경로 조사중</td>\n",
       "      <td>-</td>\n",
       "    </tr>\n",
       "    <tr>\n",
       "      <th>4</th>\n",
       "      <td>99546</td>\n",
       "      <td>2021-09-28</td>\n",
       "      <td>기타</td>\n",
       "      <td>NaN</td>\n",
       "      <td>감염경로 조사중</td>\n",
       "      <td>-</td>\n",
       "    </tr>\n",
       "    <tr>\n",
       "      <th>...</th>\n",
       "      <td>...</td>\n",
       "      <td>...</td>\n",
       "      <td>...</td>\n",
       "      <td>...</td>\n",
       "      <td>...</td>\n",
       "      <td>...</td>\n",
       "    </tr>\n",
       "    <tr>\n",
       "      <th>99545</th>\n",
       "      <td>5</td>\n",
       "      <td>2020-01-31</td>\n",
       "      <td>성북구</td>\n",
       "      <td>NaN</td>\n",
       "      <td>기타 확진자 접촉</td>\n",
       "      <td>퇴원</td>\n",
       "    </tr>\n",
       "    <tr>\n",
       "      <th>99546</th>\n",
       "      <td>4</td>\n",
       "      <td>2020-01-30</td>\n",
       "      <td>마포구</td>\n",
       "      <td>중국</td>\n",
       "      <td>해외유입</td>\n",
       "      <td>퇴원</td>\n",
       "    </tr>\n",
       "    <tr>\n",
       "      <th>99547</th>\n",
       "      <td>3</td>\n",
       "      <td>2020-01-30</td>\n",
       "      <td>종로구</td>\n",
       "      <td>NaN</td>\n",
       "      <td>종로구 집단발병</td>\n",
       "      <td>퇴원</td>\n",
       "    </tr>\n",
       "    <tr>\n",
       "      <th>99548</th>\n",
       "      <td>2</td>\n",
       "      <td>2020-01-30</td>\n",
       "      <td>중랑구</td>\n",
       "      <td>중국</td>\n",
       "      <td>해외유입</td>\n",
       "      <td>퇴원</td>\n",
       "    </tr>\n",
       "    <tr>\n",
       "      <th>99549</th>\n",
       "      <td>1</td>\n",
       "      <td>2020-01-24</td>\n",
       "      <td>강서구</td>\n",
       "      <td>중국</td>\n",
       "      <td>해외유입</td>\n",
       "      <td>퇴원</td>\n",
       "    </tr>\n",
       "  </tbody>\n",
       "</table>\n",
       "<p>99550 rows × 6 columns</p>\n",
       "</div>"
      ],
      "text/plain": [
       "          연번         확진일   지역  여행력        접촉력  상태\n",
       "0      99550  2021-09-28   기타  NaN   감염경로 조사중   -\n",
       "1      99549  2021-09-28   기타  NaN   감염경로 조사중   -\n",
       "2      99548  2021-09-28   기타  NaN   감염경로 조사중   -\n",
       "3      99547  2021-09-28   기타  NaN   감염경로 조사중   -\n",
       "4      99546  2021-09-28   기타  NaN   감염경로 조사중   -\n",
       "...      ...         ...  ...  ...        ...  ..\n",
       "99545      5  2020-01-31  성북구  NaN  기타 확진자 접촉  퇴원\n",
       "99546      4  2020-01-30  마포구   중국       해외유입  퇴원\n",
       "99547      3  2020-01-30  종로구  NaN   종로구 집단발병  퇴원\n",
       "99548      2  2020-01-30  중랑구   중국       해외유입  퇴원\n",
       "99549      1  2020-01-24  강서구   중국       해외유입  퇴원\n",
       "\n",
       "[99550 rows x 6 columns]"
      ]
     },
     "execution_count": 23,
     "metadata": {},
     "output_type": "execute_result"
    }
   ],
   "source": [
    "df"
   ]
  },
  {
   "cell_type": "markdown",
   "metadata": {},
   "source": [
    "## 자료형 변환"
   ]
  },
  {
   "cell_type": "code",
   "execution_count": 24,
   "metadata": {},
   "outputs": [
    {
     "data": {
      "text/plain": [
       "연번      int64\n",
       "확진일    object\n",
       "지역     object\n",
       "여행력    object\n",
       "접촉력    object\n",
       "상태     object\n",
       "dtype: object"
      ]
     },
     "execution_count": 24,
     "metadata": {},
     "output_type": "execute_result"
    }
   ],
   "source": [
    "df.dtypes"
   ]
  },
  {
   "cell_type": "code",
   "execution_count": 25,
   "metadata": {},
   "outputs": [],
   "source": [
    "df['확진일'] = pd.to_datetime(df['확진일'])"
   ]
  },
  {
   "cell_type": "code",
   "execution_count": 26,
   "metadata": {},
   "outputs": [
    {
     "data": {
      "text/plain": [
       "29"
      ]
     },
     "execution_count": 26,
     "metadata": {},
     "output_type": "execute_result"
    }
   ],
   "source": [
    "df['지역'].nunique()"
   ]
  },
  {
   "cell_type": "code",
   "execution_count": 27,
   "metadata": {},
   "outputs": [
    {
     "data": {
      "text/plain": [
       "array(['기타', '영등포구', '관악구', '서대문구', '송파구', '동대문구', '성동구', '중랑구', '타시도',\n",
       "       '종로구', '도봉구', '용산구', '마포구', '구로구', '동작구', '강동구', '중구', '노원구',\n",
       "       '양천구', '강서구', '은평구', '성북구', '광진구', '금천구', '강북구', '강남구', '서초구',\n",
       "       '타시도 ', ' 성북구'], dtype=object)"
      ]
     },
     "execution_count": 27,
     "metadata": {},
     "output_type": "execute_result"
    }
   ],
   "source": [
    "df['지역'].unique()"
   ]
  },
  {
   "cell_type": "code",
   "execution_count": 28,
   "metadata": {},
   "outputs": [],
   "source": [
    "# 지역의 공백 제거\n",
    "\n",
    "df['지역'] = df['지역'].str.strip()"
   ]
  },
  {
   "cell_type": "code",
   "execution_count": 29,
   "metadata": {},
   "outputs": [],
   "source": [
    "# 지역, 상태 --> category\n",
    "\n",
    "df['지역'] = df['지역'].astype('category')"
   ]
  },
  {
   "cell_type": "code",
   "execution_count": 30,
   "metadata": {},
   "outputs": [
    {
     "data": {
      "text/plain": [
       "연번              int64\n",
       "확진일    datetime64[ns]\n",
       "지역           category\n",
       "여행력            object\n",
       "접촉력            object\n",
       "상태             object\n",
       "dtype: object"
      ]
     },
     "execution_count": 30,
     "metadata": {},
     "output_type": "execute_result"
    }
   ],
   "source": [
    "df.dtypes"
   ]
  },
  {
   "cell_type": "code",
   "execution_count": 31,
   "metadata": {},
   "outputs": [
    {
     "data": {
      "text/plain": [
       "연번         0\n",
       "확진일        0\n",
       "지역         0\n",
       "여행력    97833\n",
       "접촉력        0\n",
       "상태         0\n",
       "dtype: int64"
      ]
     },
     "execution_count": 31,
     "metadata": {},
     "output_type": "execute_result"
    }
   ],
   "source": [
    "df.isnull().sum()"
   ]
  },
  {
   "cell_type": "markdown",
   "metadata": {},
   "source": [
    "# 구 별 확진자 동향(피벗테이블)"
   ]
  },
  {
   "cell_type": "code",
   "execution_count": 32,
   "metadata": {},
   "outputs": [
    {
     "data": {
      "text/html": [
       "<div>\n",
       "<style scoped>\n",
       "    .dataframe tbody tr th:only-of-type {\n",
       "        vertical-align: middle;\n",
       "    }\n",
       "\n",
       "    .dataframe tbody tr th {\n",
       "        vertical-align: top;\n",
       "    }\n",
       "\n",
       "    .dataframe thead th {\n",
       "        text-align: right;\n",
       "    }\n",
       "</style>\n",
       "<table border=\"1\" class=\"dataframe\">\n",
       "  <thead>\n",
       "    <tr style=\"text-align: right;\">\n",
       "      <th>지역</th>\n",
       "      <th>강남구</th>\n",
       "      <th>강동구</th>\n",
       "      <th>강북구</th>\n",
       "      <th>강서구</th>\n",
       "      <th>관악구</th>\n",
       "      <th>광진구</th>\n",
       "      <th>구로구</th>\n",
       "      <th>금천구</th>\n",
       "      <th>기타</th>\n",
       "      <th>노원구</th>\n",
       "      <th>...</th>\n",
       "      <th>송파구</th>\n",
       "      <th>양천구</th>\n",
       "      <th>영등포구</th>\n",
       "      <th>용산구</th>\n",
       "      <th>은평구</th>\n",
       "      <th>종로구</th>\n",
       "      <th>중구</th>\n",
       "      <th>중랑구</th>\n",
       "      <th>타시도</th>\n",
       "      <th>All</th>\n",
       "    </tr>\n",
       "    <tr>\n",
       "      <th>확진일</th>\n",
       "      <th></th>\n",
       "      <th></th>\n",
       "      <th></th>\n",
       "      <th></th>\n",
       "      <th></th>\n",
       "      <th></th>\n",
       "      <th></th>\n",
       "      <th></th>\n",
       "      <th></th>\n",
       "      <th></th>\n",
       "      <th></th>\n",
       "      <th></th>\n",
       "      <th></th>\n",
       "      <th></th>\n",
       "      <th></th>\n",
       "      <th></th>\n",
       "      <th></th>\n",
       "      <th></th>\n",
       "      <th></th>\n",
       "      <th></th>\n",
       "      <th></th>\n",
       "    </tr>\n",
       "  </thead>\n",
       "  <tbody>\n",
       "    <tr>\n",
       "      <th>2020-01-24 00:00:00</th>\n",
       "      <td>0</td>\n",
       "      <td>0</td>\n",
       "      <td>0</td>\n",
       "      <td>1</td>\n",
       "      <td>0</td>\n",
       "      <td>0</td>\n",
       "      <td>0</td>\n",
       "      <td>0</td>\n",
       "      <td>0</td>\n",
       "      <td>0</td>\n",
       "      <td>...</td>\n",
       "      <td>0</td>\n",
       "      <td>0</td>\n",
       "      <td>0</td>\n",
       "      <td>0</td>\n",
       "      <td>0</td>\n",
       "      <td>0</td>\n",
       "      <td>0</td>\n",
       "      <td>0</td>\n",
       "      <td>0</td>\n",
       "      <td>1</td>\n",
       "    </tr>\n",
       "    <tr>\n",
       "      <th>2020-01-30 00:00:00</th>\n",
       "      <td>0</td>\n",
       "      <td>0</td>\n",
       "      <td>0</td>\n",
       "      <td>0</td>\n",
       "      <td>0</td>\n",
       "      <td>0</td>\n",
       "      <td>0</td>\n",
       "      <td>0</td>\n",
       "      <td>0</td>\n",
       "      <td>0</td>\n",
       "      <td>...</td>\n",
       "      <td>0</td>\n",
       "      <td>0</td>\n",
       "      <td>0</td>\n",
       "      <td>0</td>\n",
       "      <td>0</td>\n",
       "      <td>1</td>\n",
       "      <td>0</td>\n",
       "      <td>1</td>\n",
       "      <td>0</td>\n",
       "      <td>3</td>\n",
       "    </tr>\n",
       "    <tr>\n",
       "      <th>2020-01-31 00:00:00</th>\n",
       "      <td>0</td>\n",
       "      <td>0</td>\n",
       "      <td>0</td>\n",
       "      <td>0</td>\n",
       "      <td>0</td>\n",
       "      <td>0</td>\n",
       "      <td>0</td>\n",
       "      <td>0</td>\n",
       "      <td>0</td>\n",
       "      <td>0</td>\n",
       "      <td>...</td>\n",
       "      <td>0</td>\n",
       "      <td>0</td>\n",
       "      <td>0</td>\n",
       "      <td>0</td>\n",
       "      <td>0</td>\n",
       "      <td>2</td>\n",
       "      <td>0</td>\n",
       "      <td>0</td>\n",
       "      <td>0</td>\n",
       "      <td>3</td>\n",
       "    </tr>\n",
       "    <tr>\n",
       "      <th>2020-02-02 00:00:00</th>\n",
       "      <td>0</td>\n",
       "      <td>0</td>\n",
       "      <td>0</td>\n",
       "      <td>0</td>\n",
       "      <td>0</td>\n",
       "      <td>0</td>\n",
       "      <td>0</td>\n",
       "      <td>0</td>\n",
       "      <td>0</td>\n",
       "      <td>0</td>\n",
       "      <td>...</td>\n",
       "      <td>0</td>\n",
       "      <td>0</td>\n",
       "      <td>0</td>\n",
       "      <td>0</td>\n",
       "      <td>0</td>\n",
       "      <td>0</td>\n",
       "      <td>0</td>\n",
       "      <td>0</td>\n",
       "      <td>1</td>\n",
       "      <td>1</td>\n",
       "    </tr>\n",
       "    <tr>\n",
       "      <th>2020-02-05 00:00:00</th>\n",
       "      <td>0</td>\n",
       "      <td>0</td>\n",
       "      <td>0</td>\n",
       "      <td>0</td>\n",
       "      <td>0</td>\n",
       "      <td>0</td>\n",
       "      <td>0</td>\n",
       "      <td>0</td>\n",
       "      <td>0</td>\n",
       "      <td>0</td>\n",
       "      <td>...</td>\n",
       "      <td>1</td>\n",
       "      <td>0</td>\n",
       "      <td>0</td>\n",
       "      <td>0</td>\n",
       "      <td>0</td>\n",
       "      <td>0</td>\n",
       "      <td>0</td>\n",
       "      <td>0</td>\n",
       "      <td>0</td>\n",
       "      <td>2</td>\n",
       "    </tr>\n",
       "    <tr>\n",
       "      <th>...</th>\n",
       "      <td>...</td>\n",
       "      <td>...</td>\n",
       "      <td>...</td>\n",
       "      <td>...</td>\n",
       "      <td>...</td>\n",
       "      <td>...</td>\n",
       "      <td>...</td>\n",
       "      <td>...</td>\n",
       "      <td>...</td>\n",
       "      <td>...</td>\n",
       "      <td>...</td>\n",
       "      <td>...</td>\n",
       "      <td>...</td>\n",
       "      <td>...</td>\n",
       "      <td>...</td>\n",
       "      <td>...</td>\n",
       "      <td>...</td>\n",
       "      <td>...</td>\n",
       "      <td>...</td>\n",
       "      <td>...</td>\n",
       "      <td>...</td>\n",
       "    </tr>\n",
       "    <tr>\n",
       "      <th>2021-09-25 00:00:00</th>\n",
       "      <td>37</td>\n",
       "      <td>41</td>\n",
       "      <td>42</td>\n",
       "      <td>48</td>\n",
       "      <td>37</td>\n",
       "      <td>34</td>\n",
       "      <td>31</td>\n",
       "      <td>39</td>\n",
       "      <td>0</td>\n",
       "      <td>27</td>\n",
       "      <td>...</td>\n",
       "      <td>88</td>\n",
       "      <td>20</td>\n",
       "      <td>35</td>\n",
       "      <td>32</td>\n",
       "      <td>31</td>\n",
       "      <td>31</td>\n",
       "      <td>24</td>\n",
       "      <td>35</td>\n",
       "      <td>31</td>\n",
       "      <td>928</td>\n",
       "    </tr>\n",
       "    <tr>\n",
       "      <th>2021-09-26 00:00:00</th>\n",
       "      <td>43</td>\n",
       "      <td>17</td>\n",
       "      <td>27</td>\n",
       "      <td>29</td>\n",
       "      <td>37</td>\n",
       "      <td>37</td>\n",
       "      <td>72</td>\n",
       "      <td>19</td>\n",
       "      <td>0</td>\n",
       "      <td>25</td>\n",
       "      <td>...</td>\n",
       "      <td>55</td>\n",
       "      <td>12</td>\n",
       "      <td>40</td>\n",
       "      <td>13</td>\n",
       "      <td>38</td>\n",
       "      <td>33</td>\n",
       "      <td>27</td>\n",
       "      <td>26</td>\n",
       "      <td>32</td>\n",
       "      <td>778</td>\n",
       "    </tr>\n",
       "    <tr>\n",
       "      <th>2021-09-27 00:00:00</th>\n",
       "      <td>50</td>\n",
       "      <td>29</td>\n",
       "      <td>20</td>\n",
       "      <td>50</td>\n",
       "      <td>23</td>\n",
       "      <td>34</td>\n",
       "      <td>58</td>\n",
       "      <td>16</td>\n",
       "      <td>0</td>\n",
       "      <td>37</td>\n",
       "      <td>...</td>\n",
       "      <td>58</td>\n",
       "      <td>27</td>\n",
       "      <td>41</td>\n",
       "      <td>28</td>\n",
       "      <td>17</td>\n",
       "      <td>20</td>\n",
       "      <td>22</td>\n",
       "      <td>18</td>\n",
       "      <td>63</td>\n",
       "      <td>842</td>\n",
       "    </tr>\n",
       "    <tr>\n",
       "      <th>2021-09-28 00:00:00</th>\n",
       "      <td>45</td>\n",
       "      <td>51</td>\n",
       "      <td>25</td>\n",
       "      <td>41</td>\n",
       "      <td>48</td>\n",
       "      <td>36</td>\n",
       "      <td>55</td>\n",
       "      <td>31</td>\n",
       "      <td>65</td>\n",
       "      <td>29</td>\n",
       "      <td>...</td>\n",
       "      <td>68</td>\n",
       "      <td>27</td>\n",
       "      <td>43</td>\n",
       "      <td>24</td>\n",
       "      <td>47</td>\n",
       "      <td>23</td>\n",
       "      <td>37</td>\n",
       "      <td>26</td>\n",
       "      <td>43</td>\n",
       "      <td>1054</td>\n",
       "    </tr>\n",
       "    <tr>\n",
       "      <th>All</th>\n",
       "      <td>6926</td>\n",
       "      <td>3782</td>\n",
       "      <td>2606</td>\n",
       "      <td>4447</td>\n",
       "      <td>5418</td>\n",
       "      <td>3486</td>\n",
       "      <td>4168</td>\n",
       "      <td>2064</td>\n",
       "      <td>2321</td>\n",
       "      <td>3932</td>\n",
       "      <td>...</td>\n",
       "      <td>6356</td>\n",
       "      <td>3291</td>\n",
       "      <td>4463</td>\n",
       "      <td>2705</td>\n",
       "      <td>4284</td>\n",
       "      <td>1617</td>\n",
       "      <td>1708</td>\n",
       "      <td>3729</td>\n",
       "      <td>4715</td>\n",
       "      <td>99550</td>\n",
       "    </tr>\n",
       "  </tbody>\n",
       "</table>\n",
       "<p>583 rows × 28 columns</p>\n",
       "</div>"
      ],
      "text/plain": [
       "지역                    강남구   강동구   강북구   강서구   관악구   광진구   구로구   금천구    기타  \\\n",
       "확진일                                                                         \n",
       "2020-01-24 00:00:00     0     0     0     1     0     0     0     0     0   \n",
       "2020-01-30 00:00:00     0     0     0     0     0     0     0     0     0   \n",
       "2020-01-31 00:00:00     0     0     0     0     0     0     0     0     0   \n",
       "2020-02-02 00:00:00     0     0     0     0     0     0     0     0     0   \n",
       "2020-02-05 00:00:00     0     0     0     0     0     0     0     0     0   \n",
       "...                   ...   ...   ...   ...   ...   ...   ...   ...   ...   \n",
       "2021-09-25 00:00:00    37    41    42    48    37    34    31    39     0   \n",
       "2021-09-26 00:00:00    43    17    27    29    37    37    72    19     0   \n",
       "2021-09-27 00:00:00    50    29    20    50    23    34    58    16     0   \n",
       "2021-09-28 00:00:00    45    51    25    41    48    36    55    31    65   \n",
       "All                  6926  3782  2606  4447  5418  3486  4168  2064  2321   \n",
       "\n",
       "지역                    노원구  ...   송파구   양천구  영등포구   용산구   은평구   종로구    중구  \\\n",
       "확진일                        ...                                             \n",
       "2020-01-24 00:00:00     0  ...     0     0     0     0     0     0     0   \n",
       "2020-01-30 00:00:00     0  ...     0     0     0     0     0     1     0   \n",
       "2020-01-31 00:00:00     0  ...     0     0     0     0     0     2     0   \n",
       "2020-02-02 00:00:00     0  ...     0     0     0     0     0     0     0   \n",
       "2020-02-05 00:00:00     0  ...     1     0     0     0     0     0     0   \n",
       "...                   ...  ...   ...   ...   ...   ...   ...   ...   ...   \n",
       "2021-09-25 00:00:00    27  ...    88    20    35    32    31    31    24   \n",
       "2021-09-26 00:00:00    25  ...    55    12    40    13    38    33    27   \n",
       "2021-09-27 00:00:00    37  ...    58    27    41    28    17    20    22   \n",
       "2021-09-28 00:00:00    29  ...    68    27    43    24    47    23    37   \n",
       "All                  3932  ...  6356  3291  4463  2705  4284  1617  1708   \n",
       "\n",
       "지역                    중랑구   타시도    All  \n",
       "확진일                                     \n",
       "2020-01-24 00:00:00     0     0      1  \n",
       "2020-01-30 00:00:00     1     0      3  \n",
       "2020-01-31 00:00:00     0     0      3  \n",
       "2020-02-02 00:00:00     0     1      1  \n",
       "2020-02-05 00:00:00     0     0      2  \n",
       "...                   ...   ...    ...  \n",
       "2021-09-25 00:00:00    35    31    928  \n",
       "2021-09-26 00:00:00    26    32    778  \n",
       "2021-09-27 00:00:00    18    63    842  \n",
       "2021-09-28 00:00:00    26    43   1054  \n",
       "All                  3729  4715  99550  \n",
       "\n",
       "[583 rows x 28 columns]"
      ]
     },
     "execution_count": 32,
     "metadata": {},
     "output_type": "execute_result"
    }
   ],
   "source": [
    "df_gu = pd.pivot_table(df, index= '확진일', columns= '지역', values='연번', aggfunc='count', margins=True)\n",
    "df_gu"
   ]
  },
  {
   "cell_type": "markdown",
   "metadata": {},
   "source": [
    "### 서울시 일별 확진자 동향"
   ]
  },
  {
   "cell_type": "code",
   "execution_count": 33,
   "metadata": {},
   "outputs": [],
   "source": [
    "s_date = df_gu['All'][:-1]"
   ]
  },
  {
   "cell_type": "code",
   "execution_count": 34,
   "metadata": {},
   "outputs": [
    {
     "data": {
      "text/plain": [
       "확진일\n",
       "2021-09-24    1222\n",
       "2021-09-28    1054\n",
       "2021-09-25     928\n",
       "2021-09-23     905\n",
       "2021-09-27     842\n",
       "              ... \n",
       "2020-04-24       1\n",
       "2020-04-30       1\n",
       "2020-05-01       1\n",
       "2020-05-17       1\n",
       "2020-01-24       1\n",
       "Name: All, Length: 582, dtype: int64"
      ]
     },
     "execution_count": 34,
     "metadata": {},
     "output_type": "execute_result"
    }
   ],
   "source": [
    "# 서울시 일별 추가확진자가 많았던 순으로 보기\n",
    "\n",
    "s_date.sort_values(ascending=False)"
   ]
  },
  {
   "cell_type": "code",
   "execution_count": 35,
   "metadata": {},
   "outputs": [
    {
     "data": {
      "image/png": "[encoded data removed]",
      "text/plain": [
       "<Figure size 432x288 with 1 Axes>"
      ]
     },
     "metadata": {
      "needs_background": "light"
     },
     "output_type": "display_data"
    }
   ],
   "source": [
    "# 서울시 일별 추가확진자 시각화\n",
    "\n",
    "x = s_date.index\n",
    "y = s_date.values\n",
    "plt.plot(x,y)\n",
    "plt.title('서울시 일별 추가확진자(2021.09.28)')\n",
    "plt.xlabel('확진일')\n",
    "plt.ylabel('추가 확진자수')\n",
    "plt.xticks(rotation=45)\n",
    "plt.show()"
   ]
  },
  {
   "cell_type": "code",
   "execution_count": 10,
   "metadata": {},
   "outputs": [],
   "source": [
    "%matplotlib inline\n",
    "\n",
    "import matplotlib as mpl\n",
    "import matplotlib.pyplot as plt\n",
    "import matplotlib.font_manager as fm \n",
    "\n",
    "mpl.rcParams['axes.unicode_minus']=False\n",
    "\n",
    "plt.rcParams['font.family']= 'AppleGothic'\n"
   ]
  },
  {
   "cell_type": "code",
   "execution_count": 38,
   "metadata": {},
   "outputs": [
    {
     "data": {
      "text/plain": [
       "지역\n",
       "강남구     6926\n",
       "송파구     6356\n",
       "관악구     5418\n",
       "타시도     4715\n",
       "영등포구    4463\n",
       "강서구     4447\n",
       "은평구     4284\n",
       "서초구     4284\n",
       "구로구     4168\n",
       "동작구     4120\n",
       "노원구     3932\n",
       "강동구     3782\n",
       "성북구     3779\n",
       "중랑구     3729\n",
       "마포구     3726\n",
       "동대문구    3487\n",
       "광진구     3486\n",
       "양천구     3291\n",
       "성동구     2839\n",
       "용산구     2705\n",
       "서대문구    2692\n",
       "강북구     2606\n",
       "도봉구     2605\n",
       "기타      2321\n",
       "금천구     2064\n",
       "중구      1708\n",
       "종로구     1617\n",
       "Name: All, dtype: int64"
      ]
     },
     "execution_count": 38,
     "metadata": {},
     "output_type": "execute_result"
    }
   ],
   "source": [
    "# 서울시 구별 누적확진자 많은 순으로 보기\n",
    "s_gu = df_gu.loc['All'][:-1]\n",
    "s_gu = s_gu.sort_values(ascending=False)\n",
    "s_gu"
   ]
  },
  {
   "cell_type": "code",
   "execution_count": 44,
   "metadata": {},
   "outputs": [
    {
     "data": {
      "image/png": "[encoded data removed]",
      "text/plain": [
       "<Figure size 720x504 with 1 Axes>"
      ]
     },
     "metadata": {
      "needs_background": "light"
     },
     "output_type": "display_data"
    }
   ],
   "source": [
    "x = s_gu.index\n",
    "y = s_gu.values\n",
    "\n",
    "plt.figure(figsize=(10,7))  # 꼭 위에다 적어주어야함\n",
    "plt.barh(x,y)\n",
    "plt.title('서울시 구별 누적확진자(2021.9.28)', size=20)\n",
    "plt.xticks(rotation=45)\n",
    "plt.show()"
   ]
  },
  {
   "cell_type": "code",
   "execution_count": 49,
   "metadata": {},
   "outputs": [],
   "source": [
    "s_gu = df_gu.iloc[-2][:-1]\n",
    "s_gu = s_gu.sort_values(ascending=False)"
   ]
  },
  {
   "cell_type": "code",
   "execution_count": 51,
   "metadata": {},
   "outputs": [
    {
     "data": {
      "image/png": "[encoded data removed]",
      "text/plain": [
       "<Figure size 720x504 with 1 Axes>"
      ]
     },
     "metadata": {
      "needs_background": "light"
     },
     "output_type": "display_data"
    }
   ],
   "source": [
    "x = s_gu.index\n",
    "y = s_gu.values\n",
    "\n",
    "plt.figure(figsize=(10,7))  # 꼭 위에다 적어주어야함\n",
    "plt.bar(x,y)\n",
    "plt.xticks(rotation=45)\n",
    "plt.show()"
   ]
  },
  {
   "cell_type": "code",
   "execution_count": 55,
   "metadata": {},
   "outputs": [
    {
     "data": {
      "text/html": [
       "<div>\n",
       "<style scoped>\n",
       "    .dataframe tbody tr th:only-of-type {\n",
       "        vertical-align: middle;\n",
       "    }\n",
       "\n",
       "    .dataframe tbody tr th {\n",
       "        vertical-align: top;\n",
       "    }\n",
       "\n",
       "    .dataframe thead th {\n",
       "        text-align: right;\n",
       "    }\n",
       "</style>\n",
       "<table border=\"1\" class=\"dataframe\">\n",
       "  <thead>\n",
       "    <tr style=\"text-align: right;\">\n",
       "      <th></th>\n",
       "      <th>접촉력</th>\n",
       "    </tr>\n",
       "  </thead>\n",
       "  <tbody>\n",
       "    <tr>\n",
       "      <th>기타 확진자 접촉</th>\n",
       "      <td>37943</td>\n",
       "    </tr>\n",
       "    <tr>\n",
       "      <th>감염경로 조사중</th>\n",
       "      <td>31964</td>\n",
       "    </tr>\n",
       "    <tr>\n",
       "      <th>타시도 확진자 접촉</th>\n",
       "      <td>4244</td>\n",
       "    </tr>\n",
       "    <tr>\n",
       "      <th>해외유입</th>\n",
       "      <td>1729</td>\n",
       "    </tr>\n",
       "    <tr>\n",
       "      <th>동부구치소 관련</th>\n",
       "      <td>1175</td>\n",
       "    </tr>\n",
       "    <tr>\n",
       "      <th>병원 및 요양시설</th>\n",
       "      <td>988</td>\n",
       "    </tr>\n",
       "    <tr>\n",
       "      <th>송파구 소재 시장 관련(?21.9.)</th>\n",
       "      <td>659</td>\n",
       "    </tr>\n",
       "    <tr>\n",
       "      <th>성북구 사랑제일교회 관련</th>\n",
       "      <td>641</td>\n",
       "    </tr>\n",
       "    <tr>\n",
       "      <th>중구 소재 시장 관련(?21.9.)</th>\n",
       "      <td>277</td>\n",
       "    </tr>\n",
       "    <tr>\n",
       "      <th>강서구 교회 관련</th>\n",
       "      <td>246</td>\n",
       "    </tr>\n",
       "  </tbody>\n",
       "</table>\n",
       "</div>"
      ],
      "text/plain": [
       "                        접촉력\n",
       "기타 확진자 접촉             37943\n",
       "감염경로 조사중              31964\n",
       "타시도 확진자 접촉             4244\n",
       "해외유입                   1729\n",
       "동부구치소 관련               1175\n",
       "병원 및 요양시설               988\n",
       "송파구 소재 시장 관련(?21.9.)    659\n",
       "성북구 사랑제일교회 관련           641\n",
       "중구 소재 시장 관련(?21.9.)     277\n",
       "강서구 교회 관련               246"
      ]
     },
     "execution_count": 55,
     "metadata": {},
     "output_type": "execute_result"
    }
   ],
   "source": [
    "df['접촉력'].value_counts()[:10].to_frame()"
   ]
  },
  {
   "cell_type": "code",
   "execution_count": 63,
   "metadata": {},
   "outputs": [
    {
     "data": {
      "text/html": [
       "<div>\n",
       "<style scoped>\n",
       "    .dataframe tbody tr th:only-of-type {\n",
       "        vertical-align: middle;\n",
       "    }\n",
       "\n",
       "    .dataframe tbody tr th {\n",
       "        vertical-align: top;\n",
       "    }\n",
       "\n",
       "    .dataframe thead th {\n",
       "        text-align: right;\n",
       "    }\n",
       "</style>\n",
       "<table border=\"1\" class=\"dataframe\">\n",
       "  <thead>\n",
       "    <tr style=\"text-align: right;\">\n",
       "      <th></th>\n",
       "      <th>접촉력</th>\n",
       "    </tr>\n",
       "  </thead>\n",
       "  <tbody>\n",
       "    <tr>\n",
       "      <th>감염경로 조사중</th>\n",
       "      <td>8117</td>\n",
       "    </tr>\n",
       "    <tr>\n",
       "      <th>기타 확진자 접촉</th>\n",
       "      <td>8088</td>\n",
       "    </tr>\n",
       "    <tr>\n",
       "      <th>송파구 소재 시장 관련(?21.9.)</th>\n",
       "      <td>658</td>\n",
       "    </tr>\n",
       "    <tr>\n",
       "      <th>타시도 확진자 접촉</th>\n",
       "      <td>587</td>\n",
       "    </tr>\n",
       "    <tr>\n",
       "      <th>중구 소재 시장 관련(?21.9.)</th>\n",
       "      <td>277</td>\n",
       "    </tr>\n",
       "    <tr>\n",
       "      <th>병원 및 요양시설</th>\n",
       "      <td>186</td>\n",
       "    </tr>\n",
       "    <tr>\n",
       "      <th>해외유입</th>\n",
       "      <td>122</td>\n",
       "    </tr>\n",
       "    <tr>\n",
       "      <th>용산구 소재 병원 관련(?21.9.)</th>\n",
       "      <td>77</td>\n",
       "    </tr>\n",
       "    <tr>\n",
       "      <th>동대문구 소재 시장 관련</th>\n",
       "      <td>44</td>\n",
       "    </tr>\n",
       "    <tr>\n",
       "      <th>강서구 소재 시장 관련</th>\n",
       "      <td>44</td>\n",
       "    </tr>\n",
       "  </tbody>\n",
       "</table>\n",
       "</div>"
      ],
      "text/plain": [
       "                       접촉력\n",
       "감염경로 조사중              8117\n",
       "기타 확진자 접촉             8088\n",
       "송파구 소재 시장 관련(?21.9.)   658\n",
       "타시도 확진자 접촉             587\n",
       "중구 소재 시장 관련(?21.9.)    277\n",
       "병원 및 요양시설              186\n",
       "해외유입                   122\n",
       "용산구 소재 병원 관련(?21.9.)    77\n",
       "동대문구 소재 시장 관련           44\n",
       "강서구 소재 시장 관련            44"
      ]
     },
     "execution_count": 63,
     "metadata": {},
     "output_type": "execute_result"
    }
   ],
   "source": [
    "df[(df['확진일'].dt.year==2021)&(df['확진일'].dt.month==9)]['접촉력'].value_counts()[:10].to_frame()"
   ]
  },
  {
   "cell_type": "code",
   "execution_count": null,
   "metadata": {},
   "outputs": [],
   "source": []
  }
 ],
 "metadata": {
  "kernelspec": {
   "display_name": "cutekernel",
   "language": "python",
   "name": "conda"
  },
  "language_info": {
   "codemirror_mode": {
    "name": "ipython",
    "version": 3
   },
   "file_extension": ".py",
   "mimetype": "text/x-python",
   "name": "python",
   "nbconvert_exporter": "python",
   "pygments_lexer": "ipython3",
   "version": "3.9.7"
  },
  "orig_nbformat": 4
 },
 "nbformat": 4,
 "nbformat_minor": 2
}
