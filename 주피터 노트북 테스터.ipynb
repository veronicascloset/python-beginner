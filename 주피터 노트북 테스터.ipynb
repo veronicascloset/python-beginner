{
 "cells": [
  {
   "cell_type": "markdown",
   "id": "452b6049",
   "metadata": {},
   "source": [
    "<<주피터 노트북 단축키>>\n",
    "\n",
    "b : 아래 셀 추가  \n",
    "a : 윗 셀 추가  \n",
    "dd : 선택셀 삭제  \n",
    "ctrl+enter : run  \n",
    "enter : 입력 활성화  \n",
    "esc : 입력 비활성화  \n",
    "m : 마크다운 변환  "
   ]
  },
  {
   "cell_type": "markdown",
   "id": "73c2d678",
   "metadata": {},
   "source": [
    "# 출력하기"
   ]
  },
  {
   "cell_type": "code",
   "execution_count": 1,
   "id": "e484e111",
   "metadata": {
    "scrolled": true
   },
   "outputs": [
    {
     "name": "stdout",
     "output_type": "stream",
     "text": [
      "hello\n"
     ]
    }
   ],
   "source": [
    "print('hello')"
   ]
  },
  {
   "cell_type": "code",
   "execution_count": 3,
   "id": "b31beb9f",
   "metadata": {},
   "outputs": [
    {
     "name": "stdout",
     "output_type": "stream",
     "text": [
      "hello python\n"
     ]
    }
   ],
   "source": [
    "print('hello', 'python')"
   ]
  },
  {
   "cell_type": "markdown",
   "id": "f1d4af51",
   "metadata": {},
   "source": [
    "## 구분자 지정"
   ]
  },
  {
   "cell_type": "code",
   "execution_count": 4,
   "id": "9b7abc32",
   "metadata": {},
   "outputs": [
    {
     "name": "stdout",
     "output_type": "stream",
     "text": [
      "hello,python\n"
     ]
    }
   ],
   "source": [
    "print('hello','python',sep=',')"
   ]
  },
  {
   "cell_type": "code",
   "execution_count": 6,
   "id": "39235df1",
   "metadata": {},
   "outputs": [
    {
     "name": "stdout",
     "output_type": "stream",
     "text": [
      "1+1=2\n"
     ]
    }
   ],
   "source": [
    "print('1+1=','2',sep='')"
   ]
  },
  {
   "cell_type": "markdown",
   "id": "77b149b7",
   "metadata": {},
   "source": [
    "## 끝문자 지정"
   ]
  },
  {
   "cell_type": "code",
   "execution_count": 7,
   "id": "9db55b9f",
   "metadata": {},
   "outputs": [
    {
     "name": "stdout",
     "output_type": "stream",
     "text": [
      "안녕하세요 반갑습니다\n"
     ]
    }
   ],
   "source": [
    "print('안녕하세요', end=' ')\n",
    "print('반갑습니다')"
   ]
  },
  {
   "cell_type": "code",
   "execution_count": 60,
   "id": "280d03d0",
   "metadata": {},
   "outputs": [
    {
     "name": "stdout",
     "output_type": "stream",
     "text": [
      "안녕하세요\n",
      "반갑습니다\n"
     ]
    }
   ],
   "source": [
    "# 끝문자 지정 안했을때\n",
    "print('안녕하세요')\n",
    "print('반갑습니다')"
   ]
  },
  {
   "cell_type": "markdown",
   "id": "aeb33de8",
   "metadata": {},
   "source": [
    "## 여러줄 한번에 출력하기"
   ]
  },
  {
   "cell_type": "code",
   "execution_count": 9,
   "id": "3d22298e",
   "metadata": {},
   "outputs": [
    {
     "name": "stdout",
     "output_type": "stream",
     "text": [
      "\n",
      "자세히 보아야 예쁘다.\n",
      "오래 보아야 사랑스럽다.\n",
      "너도 그렇다.\n",
      "\n"
     ]
    }
   ],
   "source": [
    "print('''\n",
    "자세히 보아야 예쁘다.\n",
    "오래 보아야 사랑스럽다.\n",
    "너도 그렇다.\n",
    "''')"
   ]
  },
  {
   "cell_type": "markdown",
   "id": "8367283b",
   "metadata": {},
   "source": [
    "# 주석달기"
   ]
  },
  {
   "cell_type": "code",
   "execution_count": 11,
   "id": "ff43f5ee",
   "metadata": {},
   "outputs": [
    {
     "name": "stdout",
     "output_type": "stream",
     "text": [
      "2\n",
      "3\n"
     ]
    }
   ],
   "source": [
    "#print(1)\n",
    "print(2)\n",
    "print(3)\n",
    "#주석에 대한 코드 #주석"
   ]
  },
  {
   "cell_type": "markdown",
   "id": "c9cc9985",
   "metadata": {},
   "source": [
    "들여쓰기"
   ]
  },
  {
   "cell_type": "markdown",
   "id": "2547fb29",
   "metadata": {},
   "source": [
    "오류 해석하기  \n",
    "\n",
    "* 파이썬에서는 대소문자를 구분한다  \n",
    "* 따옴표의 짝이 맞아야 한다\n",
    "* 괄호의 짝이 맞아야 한다"
   ]
  },
  {
   "cell_type": "markdown",
   "id": "4417d551",
   "metadata": {},
   "source": [
    "# 변수 만들기"
   ]
  },
  {
   "cell_type": "markdown",
   "id": "6c9c4fca",
   "metadata": {},
   "source": [
    "## 변수에 값 할당하기"
   ]
  },
  {
   "cell_type": "code",
   "execution_count": 12,
   "id": "4a06fb6e",
   "metadata": {},
   "outputs": [],
   "source": [
    "name = 'james'\n",
    "age = 20\n",
    "height = 175.0\n",
    "ischild = age<20"
   ]
  },
  {
   "cell_type": "markdown",
   "id": "1c00ff15",
   "metadata": {},
   "source": [
    "## 변수 값, 자료형 출력하기"
   ]
  },
  {
   "cell_type": "code",
   "execution_count": 14,
   "id": "c2473d4f",
   "metadata": {},
   "outputs": [
    {
     "name": "stdout",
     "output_type": "stream",
     "text": [
      "20\n",
      "<class 'int'>\n"
     ]
    }
   ],
   "source": [
    "print(age)\n",
    "print(type(age))"
   ]
  },
  {
   "cell_type": "markdown",
   "id": "278e4331",
   "metadata": {},
   "source": [
    "## 쌍따옴표나 홑따옴표가 포함된 문장 출력하기"
   ]
  },
  {
   "cell_type": "code",
   "execution_count": 16,
   "id": "ba99c373",
   "metadata": {},
   "outputs": [],
   "source": [
    "a = \"'낮말'은 새가 듣고 '밤말'은 쥐가 듣는다\"\n",
    "b = '\"시간은 금\"이라는 말이 있다'"
   ]
  },
  {
   "cell_type": "code",
   "execution_count": 18,
   "id": "bd9a88f7",
   "metadata": {},
   "outputs": [
    {
     "name": "stdout",
     "output_type": "stream",
     "text": [
      "'낮말'은 새가 듣고 '밤말'은 쥐가 듣는다\n",
      "\"시간은 금\"이라는 말이 있다\n"
     ]
    }
   ],
   "source": [
    "print(a)\n",
    "print(b)"
   ]
  },
  {
   "cell_type": "markdown",
   "id": "107d9a30",
   "metadata": {},
   "source": [
    "# 키보드로 변수에 값 입력받기"
   ]
  },
  {
   "cell_type": "code",
   "execution_count": 19,
   "id": "b57d23bd",
   "metadata": {},
   "outputs": [
    {
     "name": "stdout",
     "output_type": "stream",
     "text": [
      "20\n"
     ]
    }
   ],
   "source": [
    "a= input()"
   ]
  },
  {
   "cell_type": "code",
   "execution_count": 20,
   "id": "530266b9",
   "metadata": {},
   "outputs": [
    {
     "name": "stdout",
     "output_type": "stream",
     "text": [
      "나이:20\n"
     ]
    }
   ],
   "source": [
    "a=input('나이:')"
   ]
  },
  {
   "cell_type": "markdown",
   "id": "720cbbd9",
   "metadata": {},
   "source": [
    "## 자료형 변환하기"
   ]
  },
  {
   "cell_type": "code",
   "execution_count": 22,
   "id": "08cb300a",
   "metadata": {},
   "outputs": [
    {
     "data": {
      "text/plain": [
       "int"
      ]
     },
     "execution_count": 22,
     "metadata": {},
     "output_type": "execute_result"
    }
   ],
   "source": [
    "age = int('20')\n",
    "type(age)"
   ]
  },
  {
   "cell_type": "code",
   "execution_count": 23,
   "id": "abf544b4",
   "metadata": {},
   "outputs": [
    {
     "data": {
      "text/plain": [
       "str"
      ]
     },
     "execution_count": 23,
     "metadata": {},
     "output_type": "execute_result"
    }
   ],
   "source": [
    "age = str(20)\n",
    "type(age)"
   ]
  },
  {
   "cell_type": "markdown",
   "id": "a8289324",
   "metadata": {},
   "source": [
    "# 연산"
   ]
  },
  {
   "cell_type": "markdown",
   "id": "b71d40b8",
   "metadata": {},
   "source": [
    "산술연산"
   ]
  },
  {
   "cell_type": "markdown",
   "id": "9a3da7fa",
   "metadata": {},
   "source": [
    "## 문자열 연산"
   ]
  },
  {
   "cell_type": "code",
   "execution_count": 24,
   "id": "ee525f67",
   "metadata": {},
   "outputs": [
    {
     "data": {
      "text/plain": [
       "'goodmorning'"
      ]
     },
     "execution_count": 24,
     "metadata": {},
     "output_type": "execute_result"
    }
   ],
   "source": [
    "a='good'\n",
    "b='morning'\n",
    "a+b"
   ]
  },
  {
   "cell_type": "code",
   "execution_count": 26,
   "id": "13ea6ce7",
   "metadata": {},
   "outputs": [
    {
     "data": {
      "text/plain": [
       "'hahaha'"
      ]
     },
     "execution_count": 26,
     "metadata": {},
     "output_type": "execute_result"
    }
   ],
   "source": [
    "s='ha'\n",
    "s*3"
   ]
  },
  {
   "cell_type": "code",
   "execution_count": 27,
   "id": "eb8d9d6b",
   "metadata": {},
   "outputs": [
    {
     "ename": "TypeError",
     "evalue": "can only concatenate str (not \"int\") to str",
     "output_type": "error",
     "traceback": [
      "\u001b[0;31m---------------------------------------------------------------------------\u001b[0m",
      "\u001b[0;31mTypeError\u001b[0m                                 Traceback (most recent call last)",
      "\u001b[0;32m/var/folders/vt/jhkhj2gs47q5fn16r45zqzpw0000gn/T/ipykernel_59193/1965753992.py\u001b[0m in \u001b[0;36m<module>\u001b[0;34m\u001b[0m\n\u001b[1;32m      1\u001b[0m \u001b[0menglish\u001b[0m \u001b[0;34m=\u001b[0m \u001b[0;36m80\u001b[0m\u001b[0;34m\u001b[0m\u001b[0;34m\u001b[0m\u001b[0m\n\u001b[0;32m----> 2\u001b[0;31m \u001b[0mresult\u001b[0m \u001b[0;34m=\u001b[0m \u001b[0;34m'영어점수'\u001b[0m\u001b[0;34m+\u001b[0m\u001b[0menglish\u001b[0m\u001b[0;34m\u001b[0m\u001b[0;34m\u001b[0m\u001b[0m\n\u001b[0m",
      "\u001b[0;31mTypeError\u001b[0m: can only concatenate str (not \"int\") to str"
     ]
    }
   ],
   "source": [
    "english = 80\n",
    "result = '영어점수'+english"
   ]
  },
  {
   "cell_type": "code",
   "execution_count": 29,
   "id": "b8a6f12f",
   "metadata": {},
   "outputs": [
    {
     "name": "stdout",
     "output_type": "stream",
     "text": [
      "영어점수80\n"
     ]
    }
   ],
   "source": [
    "english = 80\n",
    "result = '영어점수'+str(english)\n",
    "print(result)"
   ]
  },
  {
   "cell_type": "markdown",
   "id": "67ef7d64",
   "metadata": {},
   "source": [
    "## 할당 연산자"
   ]
  },
  {
   "cell_type": "code",
   "execution_count": null,
   "id": "8a5fbcd9",
   "metadata": {},
   "outputs": [],
   "source": [
    "a=1"
   ]
  },
  {
   "cell_type": "code",
   "execution_count": 30,
   "id": "5a404728",
   "metadata": {},
   "outputs": [
    {
     "name": "stdout",
     "output_type": "stream",
     "text": [
      "1 1 1\n"
     ]
    }
   ],
   "source": [
    "a=b=c=1\n",
    "print(a,b,c)"
   ]
  },
  {
   "cell_type": "code",
   "execution_count": 31,
   "id": "14dd0fe9",
   "metadata": {},
   "outputs": [
    {
     "name": "stdout",
     "output_type": "stream",
     "text": [
      "1 2 3\n"
     ]
    }
   ],
   "source": [
    "a,b,c= 1,2,3\n",
    "print(a,b,c)"
   ]
  },
  {
   "cell_type": "markdown",
   "id": "7f7f2209",
   "metadata": {},
   "source": [
    "## 복합 할당 연산자"
   ]
  },
  {
   "cell_type": "code",
   "execution_count": 32,
   "id": "3492a112",
   "metadata": {},
   "outputs": [
    {
     "name": "stdout",
     "output_type": "stream",
     "text": [
      "30\n"
     ]
    }
   ],
   "source": [
    "x = 10\n",
    "x+= 20\n",
    "print(x)"
   ]
  },
  {
   "cell_type": "markdown",
   "id": "ee1e5da8",
   "metadata": {},
   "source": [
    "## f스트링으로 출력하기"
   ]
  },
  {
   "cell_type": "code",
   "execution_count": 33,
   "id": "b20be3f4",
   "metadata": {},
   "outputs": [
    {
     "name": "stdout",
     "output_type": "stream",
     "text": [
      "이름 : james\n",
      "james 님, 안녕하세요?\n"
     ]
    }
   ],
   "source": [
    "name = input('이름 : ')\n",
    "print(name, '님, 안녕하세요?')"
   ]
  },
  {
   "cell_type": "code",
   "execution_count": 34,
   "id": "d6fb7237",
   "metadata": {},
   "outputs": [
    {
     "name": "stdout",
     "output_type": "stream",
     "text": [
      "james님 안녕하세요\n"
     ]
    }
   ],
   "source": [
    "print(f'{name}님 안녕하세요')"
   ]
  },
  {
   "cell_type": "code",
   "execution_count": 35,
   "id": "a03b5d41",
   "metadata": {},
   "outputs": [
    {
     "name": "stdout",
     "output_type": "stream",
     "text": [
      "나이:20\n",
      "나이는 20 살이시군요. 내년이면 21 살이 되시겠네요\n"
     ]
    }
   ],
   "source": [
    "age = int(input('나이:'))\n",
    "print('나이는', age, '살이시군요. 내년이면', age+1, '살이 되시겠네요')"
   ]
  },
  {
   "cell_type": "code",
   "execution_count": 36,
   "id": "90c87458",
   "metadata": {},
   "outputs": [
    {
     "name": "stdout",
     "output_type": "stream",
     "text": [
      "나이는 20 살이시군요. 내년이면 21 살이 되시겠네요\n"
     ]
    }
   ],
   "source": [
    "print(f'나이는 {age} 살이시군요. 내년이면 {age+1} 살이 되시겠네요')"
   ]
  },
  {
   "cell_type": "code",
   "execution_count": 37,
   "id": "c101475c",
   "metadata": {},
   "outputs": [
    {
     "name": "stdout",
     "output_type": "stream",
     "text": [
      "첫번째숫자:1\n",
      "두번째숫자:2\n",
      "1 + 2 = 3\n"
     ]
    }
   ],
   "source": [
    "a = int(input('첫번째숫자:'))\n",
    "b = int(input('두번째숫자:'))\n",
    "\n",
    "print(a, '+',b,'=',a+b)"
   ]
  },
  {
   "cell_type": "code",
   "execution_count": 38,
   "id": "366b8402",
   "metadata": {},
   "outputs": [
    {
     "name": "stdout",
     "output_type": "stream",
     "text": [
      "1+2=3\n"
     ]
    }
   ],
   "source": [
    "print(f'{a}+{b}={a+b}')"
   ]
  },
  {
   "cell_type": "markdown",
   "id": "9f12f96b",
   "metadata": {},
   "source": [
    "## 연습문제"
   ]
  },
  {
   "cell_type": "code",
   "execution_count": 42,
   "id": "502cc87a",
   "metadata": {},
   "outputs": [
    {
     "name": "stdout",
     "output_type": "stream",
     "text": [
      "화씨온도:34\n",
      "화씨온도:34--> 섭씨온도:1.1111111111111112\n"
     ]
    }
   ],
   "source": [
    "f = int(input('화씨온도:'))\n",
    "c=(f-32)*(5/9)\n",
    "print(f'화씨온도:{f}--> 섭씨온도:{c}')"
   ]
  },
  {
   "cell_type": "markdown",
   "id": "ff393482",
   "metadata": {},
   "source": [
    "# 문자열 인덱싱"
   ]
  },
  {
   "cell_type": "code",
   "execution_count": 43,
   "id": "50d02f78",
   "metadata": {},
   "outputs": [],
   "source": [
    "a= 'hello world'"
   ]
  },
  {
   "cell_type": "code",
   "execution_count": 46,
   "id": "2001d303",
   "metadata": {},
   "outputs": [
    {
     "name": "stdout",
     "output_type": "stream",
     "text": [
      "h\n",
      "w\n",
      "d\n"
     ]
    }
   ],
   "source": [
    "# 'H'출력하기\n",
    "print(a[0])\n",
    "\n",
    "# 'w' 출력하기\n",
    "print(a[-5])\n",
    "\n",
    "# 'd' 출력하기\n",
    "print(a[-1])\n"
   ]
  },
  {
   "cell_type": "code",
   "execution_count": 47,
   "id": "85fbb9f8",
   "metadata": {},
   "outputs": [
    {
     "ename": "IndexError",
     "evalue": "string index out of range",
     "output_type": "error",
     "traceback": [
      "\u001b[0;31m---------------------------------------------------------------------------\u001b[0m",
      "\u001b[0;31mIndexError\u001b[0m                                Traceback (most recent call last)",
      "\u001b[0;32m/var/folders/vt/jhkhj2gs47q5fn16r45zqzpw0000gn/T/ipykernel_59193/2944729969.py\u001b[0m in \u001b[0;36m<module>\u001b[0;34m\u001b[0m\n\u001b[0;32m----> 1\u001b[0;31m \u001b[0mprint\u001b[0m\u001b[0;34m(\u001b[0m\u001b[0ma\u001b[0m\u001b[0;34m[\u001b[0m\u001b[0;36m11\u001b[0m\u001b[0;34m]\u001b[0m\u001b[0;34m)\u001b[0m\u001b[0;34m\u001b[0m\u001b[0;34m\u001b[0m\u001b[0m\n\u001b[0m",
      "\u001b[0;31mIndexError\u001b[0m: string index out of range"
     ]
    }
   ],
   "source": [
    "print(a[11])"
   ]
  },
  {
   "cell_type": "markdown",
   "id": "cab4c470",
   "metadata": {},
   "source": [
    "# 문자열 슬라이싱"
   ]
  },
  {
   "cell_type": "code",
   "execution_count": 48,
   "id": "cdc7bc0f",
   "metadata": {},
   "outputs": [
    {
     "name": "stdout",
     "output_type": "stream",
     "text": [
      "hello\n"
     ]
    }
   ],
   "source": [
    "print(a[0:5])"
   ]
  },
  {
   "cell_type": "code",
   "execution_count": 51,
   "id": "a41f2285",
   "metadata": {},
   "outputs": [
    {
     "name": "stdout",
     "output_type": "stream",
     "text": [
      "Hello\n",
      "World\n"
     ]
    }
   ],
   "source": [
    "a='Hello World'\n",
    "\n",
    "# 'Hello' 출력하기\n",
    "print(a[-11:-6])\n",
    "\n",
    "# 'World' 출력하기\n",
    "print(a[-5:])"
   ]
  },
  {
   "cell_type": "markdown",
   "id": "462997ed",
   "metadata": {},
   "source": [
    "첫번째와 마지막 인덱스는 생략가능"
   ]
  },
  {
   "cell_type": "markdown",
   "id": "4aa9bc8a",
   "metadata": {},
   "source": [
    "# 문자열함수"
   ]
  },
  {
   "cell_type": "markdown",
   "id": "e15066b5",
   "metadata": {},
   "source": [
    "## 문자열 교체하기"
   ]
  },
  {
   "cell_type": "code",
   "execution_count": 52,
   "id": "1db60904",
   "metadata": {},
   "outputs": [
    {
     "data": {
      "text/plain": [
       "'나는 딸기우유 좋아. 딸기우유 최고'"
      ]
     },
     "execution_count": 52,
     "metadata": {},
     "output_type": "execute_result"
    }
   ],
   "source": [
    "a= '나는 초코우유 좋아. 초코우유 최고'\n",
    "\n",
    "a.replace('초코','딸기')"
   ]
  },
  {
   "cell_type": "markdown",
   "id": "18cd35b9",
   "metadata": {},
   "source": [
    "## 문자열 위치 찾기"
   ]
  },
  {
   "cell_type": "code",
   "execution_count": 53,
   "id": "8d8b28ae",
   "metadata": {},
   "outputs": [
    {
     "name": "stdout",
     "output_type": "stream",
     "text": [
      "0\n"
     ]
    }
   ],
   "source": [
    "print(a.find('나'))"
   ]
  },
  {
   "cell_type": "markdown",
   "id": "a3d00769",
   "metadata": {},
   "source": [
    "## 대문자로 변환하기"
   ]
  },
  {
   "cell_type": "code",
   "execution_count": 61,
   "id": "0ae09650",
   "metadata": {},
   "outputs": [
    {
     "data": {
      "text/plain": [
       "'HELLO, PYTHON!!!'"
      ]
     },
     "execution_count": 61,
     "metadata": {},
     "output_type": "execute_result"
    }
   ],
   "source": [
    "a='Hello, Python!!!'\n",
    "a.upper()"
   ]
  },
  {
   "cell_type": "markdown",
   "id": "24365cd5",
   "metadata": {},
   "source": [
    "## 문자열 나누기"
   ]
  },
  {
   "cell_type": "code",
   "execution_count": 55,
   "id": "bbf8fea0",
   "metadata": {},
   "outputs": [
    {
     "data": {
      "text/plain": [
       "['abc', 'naver.com']"
      ]
     },
     "execution_count": 55,
     "metadata": {},
     "output_type": "execute_result"
    }
   ],
   "source": [
    "email = 'abc@naver.com'\n",
    "email.split('@')"
   ]
  },
  {
   "cell_type": "markdown",
   "id": "2b0ee43b",
   "metadata": {},
   "source": [
    "## 연습문제"
   ]
  },
  {
   "cell_type": "code",
   "execution_count": 59,
   "id": "18f0749a",
   "metadata": {},
   "outputs": [
    {
     "name": "stdout",
     "output_type": "stream",
     "text": [
      "영문이름(성과 이름은 공백으로 구분) : vero kim\n",
      "kim vero\n"
     ]
    }
   ],
   "source": [
    "name = input('영문이름(성과 이름은 공백으로 구분) : ')\n",
    "first, second = name.split(' ')\n",
    "print(second, first)"
   ]
  },
  {
   "cell_type": "code",
   "execution_count": 57,
   "id": "d285c90f",
   "metadata": {},
   "outputs": [
    {
     "name": "stdout",
     "output_type": "stream",
     "text": [
      "abv\n"
     ]
    }
   ],
   "source": [
    "name, name1 = ['abv', 'abc']\n",
    "print(name)"
   ]
  }
 ],
 "metadata": {
  "kernelspec": {
   "display_name": "Python 3 (ipykernel)",
   "language": "python",
   "name": "python3"
  },
  "language_info": {
   "codemirror_mode": {
    "name": "ipython",
    "version": 3
   },
   "file_extension": ".py",
   "mimetype": "text/x-python",
   "name": "python",
   "nbconvert_exporter": "python",
   "pygments_lexer": "ipython3",
   "version": "3.9.7"
  },
  "toc": {
   "base_numbering": 1,
   "nav_menu": {},
   "number_sections": true,
   "sideBar": true,
   "skip_h1_title": false,
   "title_cell": "Table of Contents",
   "title_sidebar": "Contents",
   "toc_cell": false,
   "toc_position": {},
   "toc_section_display": true,
   "toc_window_display": true
  }
 },
 "nbformat": 4,
 "nbformat_minor": 5
}
