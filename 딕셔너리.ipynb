{
 "cells": [
  {
   "cell_type": "markdown",
   "id": "15b277a8",
   "metadata": {},
   "source": [
    "# 딕셔너리 만들기"
   ]
  },
  {
   "cell_type": "code",
   "execution_count": 2,
   "id": "8bfe8522",
   "metadata": {},
   "outputs": [
    {
     "data": {
      "text/plain": [
       "{'pasta': 5000, 'ade': 3000, 'rice': 6000}"
      ]
     },
     "execution_count": 2,
     "metadata": {},
     "output_type": "execute_result"
    }
   ],
   "source": [
    "menu = {'pasta' : 5000, 'ade' :3000, 'rice' : 6000}\n",
    "menu"
   ]
  },
  {
   "cell_type": "markdown",
   "id": "445eb42d",
   "metadata": {},
   "source": [
    "## dict로 딕셔너리 만들기"
   ]
  },
  {
   "cell_type": "code",
   "execution_count": 3,
   "id": "e8002288",
   "metadata": {},
   "outputs": [
    {
     "data": {
      "text/plain": [
       "{'pasta': 5000, 'ade': 3000, 'rice': 6000}"
      ]
     },
     "execution_count": 3,
     "metadata": {},
     "output_type": "execute_result"
    }
   ],
   "source": [
    "menu1 = dict(pasta = 5000, ade = 3000, rice=6000)\n",
    "menu1"
   ]
  },
  {
   "cell_type": "code",
   "execution_count": 4,
   "id": "692ce385",
   "metadata": {},
   "outputs": [
    {
     "data": {
      "text/plain": [
       "{'pasta': 2000, 'ade': 2500, 'rice': 2000}"
      ]
     },
     "execution_count": 4,
     "metadata": {},
     "output_type": "execute_result"
    }
   ],
   "source": [
    "key_list = ['pasta','ade', 'rice']\n",
    "value_list = [2000,2500,2000,3000]\n",
    "menu2 = dict(zip(key_list, value_list))\n",
    "menu2"
   ]
  },
  {
   "cell_type": "code",
   "execution_count": 8,
   "id": "dc137b08",
   "metadata": {},
   "outputs": [
    {
     "data": {
      "text/plain": [
       "{'pasta': 5000, 'ade': 3000, 'rice': 6000}"
      ]
     },
     "execution_count": 8,
     "metadata": {},
     "output_type": "execute_result"
    }
   ],
   "source": [
    "\n",
    "[('pasta', 5000), ('ade', 3000), ('rice',6000)]\n",
    "menu3 = dict ([('pasta',5000), ('ade',3000), ('rice',6000)])\n",
    "menu3"
   ]
  },
  {
   "cell_type": "code",
   "execution_count": 9,
   "id": "8a227544",
   "metadata": {},
   "outputs": [
    {
     "data": {
      "text/plain": [
       "{'pasta': 5000, 'ade': 3000, 'rice': 6000}"
      ]
     },
     "execution_count": 9,
     "metadata": {},
     "output_type": "execute_result"
    }
   ],
   "source": [
    "menu4 = dict({'pasta' : 5000, 'ade' :3000, 'rice' : 6000})\n",
    "menu4"
   ]
  },
  {
   "cell_type": "markdown",
   "id": "62fe5594",
   "metadata": {},
   "source": [
    "## 딕셔너리에 사용할 수 있는 자료형"
   ]
  },
  {
   "cell_type": "markdown",
   "id": "53650ae5",
   "metadata": {},
   "source": [
    "딕셔너리의 key에는 숫자, 문자열, 부울형, 튜플을 사용할 수 있다.  \n",
    "딕셔너리의 value 에는 모든 자료형이 들어갈 수 있다."
   ]
  },
  {
   "cell_type": "code",
   "execution_count": 12,
   "id": "c8e077c0",
   "metadata": {},
   "outputs": [
    {
     "name": "stdout",
     "output_type": "stream",
     "text": [
      "{'name': 'james', '나이': 25, '키': 175.5, (1, 3): '학년,반', True: '참'}\n"
     ]
    }
   ],
   "source": [
    "person = {'name' : 'james', \n",
    "          '나이':25, \n",
    "          '키':175.5, \n",
    "          (1,3):'학년,반', \n",
    "          True : '참'}\n",
    "print(person)"
   ]
  },
  {
   "cell_type": "markdown",
   "id": "d93b2a71",
   "metadata": {},
   "source": [
    "### 중복된 key를 사용하여 딕셔너리를 만들면?"
   ]
  },
  {
   "cell_type": "markdown",
   "id": "c29b0762",
   "metadata": {},
   "source": [
    "key는 중복이 안되지만 value 는 중복이 된다."
   ]
  },
  {
   "cell_type": "code",
   "execution_count": 13,
   "id": "693c212d",
   "metadata": {},
   "outputs": [
    {
     "name": "stdout",
     "output_type": "stream",
     "text": [
      "{'name': 'james', '나이': 34, '키': 175.5, (1, 3): '학년,반', True: '참'}\n"
     ]
    }
   ],
   "source": [
    "person = {'name' : 'james', \n",
    "          '나이':25, \n",
    "          '나이':34, \n",
    "          '키':175.5, \n",
    "          (1,3):'학년,반', \n",
    "          True : '참'}\n",
    "print(person)"
   ]
  },
  {
   "cell_type": "markdown",
   "id": "747f9321",
   "metadata": {},
   "source": [
    "# 딕셔너리 값 추출하기"
   ]
  },
  {
   "cell_type": "code",
   "execution_count": 14,
   "id": "c08bbb77",
   "metadata": {},
   "outputs": [
    {
     "data": {
      "text/plain": [
       "34"
      ]
     },
     "execution_count": 14,
     "metadata": {},
     "output_type": "execute_result"
    }
   ],
   "source": [
    "person['나이']"
   ]
  },
  {
   "cell_type": "markdown",
   "id": "c229ab1b",
   "metadata": {},
   "source": [
    "### 존재하지 않는 key로 추출하면?"
   ]
  },
  {
   "cell_type": "markdown",
   "id": "f709d288",
   "metadata": {},
   "source": [
    "### 딕셔너리에 키 존재여부 확인하기"
   ]
  },
  {
   "cell_type": "code",
   "execution_count": 15,
   "id": "9e9de0d9",
   "metadata": {},
   "outputs": [
    {
     "name": "stdout",
     "output_type": "stream",
     "text": [
      "존재하지 않음\n"
     ]
    }
   ],
   "source": [
    "if '몸무게' in person:\n",
    "    print(person['몸무게'])\n",
    "else:\n",
    "    print('존재하지 않음')"
   ]
  },
  {
   "cell_type": "markdown",
   "id": "39071c7f",
   "metadata": {},
   "source": [
    "## 딕셔너리명.get(key, msg)"
   ]
  },
  {
   "cell_type": "code",
   "execution_count": 16,
   "id": "cd1d5cfa",
   "metadata": {},
   "outputs": [
    {
     "data": {
      "text/plain": [
       "34"
      ]
     },
     "execution_count": 16,
     "metadata": {},
     "output_type": "execute_result"
    }
   ],
   "source": [
    "person.get('나이')"
   ]
  },
  {
   "cell_type": "code",
   "execution_count": 17,
   "id": "73cea436",
   "metadata": {},
   "outputs": [],
   "source": [
    "person.get('몸무게')"
   ]
  },
  {
   "cell_type": "code",
   "execution_count": 18,
   "id": "f4908451",
   "metadata": {},
   "outputs": [
    {
     "data": {
      "text/plain": [
       "'존재하지 않음'"
      ]
     },
     "execution_count": 18,
     "metadata": {},
     "output_type": "execute_result"
    }
   ],
   "source": [
    "person.get('몸무게', '존재하지 않음')"
   ]
  },
  {
   "cell_type": "markdown",
   "id": "4d93d40f",
   "metadata": {},
   "source": [
    "# 딕셔너리 항목 추가/수정"
   ]
  },
  {
   "cell_type": "markdown",
   "id": "f444067b",
   "metadata": {},
   "source": [
    "## 딕셔너리명[키] = 값\n",
    "* 키가 존재하지 않을 경우 추가, 존재하면 수정된다."
   ]
  },
  {
   "cell_type": "code",
   "execution_count": 20,
   "id": "29497156",
   "metadata": {},
   "outputs": [
    {
     "data": {
      "text/plain": [
       "{'kor': 100, 'eng': 90, 'math': 85, 'music': 95}"
      ]
     },
     "execution_count": 20,
     "metadata": {},
     "output_type": "execute_result"
    }
   ],
   "source": [
    "scores = {'kor' : 100, 'eng':90, 'math':80}\n",
    "\n",
    "# math점수 85점으로 수정하기\n",
    "scores['math'] = 85\n",
    "\n",
    "# music점수 95점으로 추가하기\n",
    "scores['music'] = 95\n",
    "\n",
    "scores"
   ]
  },
  {
   "cell_type": "markdown",
   "id": "563dc74b",
   "metadata": {},
   "source": [
    "## setdefault로 항목 추가하기"
   ]
  },
  {
   "cell_type": "code",
   "execution_count": 21,
   "id": "9d300695",
   "metadata": {},
   "outputs": [
    {
     "data": {
      "text/plain": [
       "{'kor': 100, 'eng': 90, 'math': 80, 'music': None}"
      ]
     },
     "execution_count": 21,
     "metadata": {},
     "output_type": "execute_result"
    }
   ],
   "source": [
    "scores = {'kor' : 100, 'eng':90, 'math':80}\n",
    "\n",
    "scores.setdefault('music')\n",
    "\n",
    "scores"
   ]
  },
  {
   "cell_type": "code",
   "execution_count": 22,
   "id": "a36d91c0",
   "metadata": {},
   "outputs": [
    {
     "data": {
      "text/plain": [
       "{'kor': 100, 'eng': 90, 'math': 80, 'music': 90}"
      ]
     },
     "execution_count": 22,
     "metadata": {},
     "output_type": "execute_result"
    }
   ],
   "source": [
    "scores = {'kor' : 100, 'eng':90, 'math':80}\n",
    "\n",
    "scores.setdefault('music', 90)\n",
    "\n",
    "scores"
   ]
  },
  {
   "cell_type": "markdown",
   "id": "f9db274e",
   "metadata": {},
   "source": [
    "## update로 여러 항목 추가/수정하기"
   ]
  },
  {
   "cell_type": "markdown",
   "id": "6f121aef",
   "metadata": {},
   "source": [
    "키에 따옴표를 하지 않지만, 딕셔너리에 들어갈 때는 따옴표가 붙어서 들어간다"
   ]
  },
  {
   "cell_type": "code",
   "execution_count": 23,
   "id": "69b2b298",
   "metadata": {},
   "outputs": [
    {
     "data": {
      "text/plain": [
       "{'kor': 100, 'eng': 90, 'math': 90, 'music': 95}"
      ]
     },
     "execution_count": 23,
     "metadata": {},
     "output_type": "execute_result"
    }
   ],
   "source": [
    "scores = {'kor' : 100, 'eng':90, 'math':80}\n",
    "\n",
    "scores.update(math=90, music=95)\n",
    "scores"
   ]
  },
  {
   "cell_type": "code",
   "execution_count": 25,
   "id": "c6132f0f",
   "metadata": {},
   "outputs": [
    {
     "data": {
      "text/plain": [
       "{'kor': 100, 'eng': 90, 'math': 90, 'music': 95}"
      ]
     },
     "execution_count": 25,
     "metadata": {},
     "output_type": "execute_result"
    }
   ],
   "source": [
    "scores = {'kor' : 100, 'eng':90, 'math':80}\n",
    "\n",
    "scores.update(zip(['math','music'],[90, 95]))\n",
    "\n",
    "scores"
   ]
  },
  {
   "cell_type": "code",
   "execution_count": 26,
   "id": "8dc18368",
   "metadata": {},
   "outputs": [
    {
     "data": {
      "text/plain": [
       "{'kor': 100, 'eng': 90, 'math': 90, 'music': 90}"
      ]
     },
     "execution_count": 26,
     "metadata": {},
     "output_type": "execute_result"
    }
   ],
   "source": [
    "scores = {'kor' : 100, 'eng':90, 'math':80}\n",
    "\n",
    "scores.update([('math', 90),('music', 90)])\n",
    "scores"
   ]
  },
  {
   "cell_type": "code",
   "execution_count": 27,
   "id": "7b70b492",
   "metadata": {},
   "outputs": [
    {
     "data": {
      "text/plain": [
       "{'kor': 100, 'eng': 90, 'math': 90, 'music': 90}"
      ]
     },
     "execution_count": 27,
     "metadata": {},
     "output_type": "execute_result"
    }
   ],
   "source": [
    "scores = {'kor' : 100, 'eng':90, 'math':80}\n",
    "\n",
    "scores.update({'math': 90, 'music': 90})\n",
    "scores"
   ]
  },
  {
   "cell_type": "markdown",
   "id": "d9dfc67c",
   "metadata": {},
   "source": [
    "# 딕셔너리의 항목 삭제하기"
   ]
  },
  {
   "cell_type": "markdown",
   "id": "e36b45e2",
   "metadata": {},
   "source": [
    "## del 딕셔너리명[키] "
   ]
  },
  {
   "cell_type": "code",
   "execution_count": 28,
   "id": "d8c6a25e",
   "metadata": {},
   "outputs": [
    {
     "data": {
      "text/plain": [
       "{'eng': 90, 'math': 80}"
      ]
     },
     "execution_count": 28,
     "metadata": {},
     "output_type": "execute_result"
    }
   ],
   "source": [
    "scores = {'kor' : 100, 'eng':90, 'math':80}\n",
    "\n",
    "del scores['kor']\n",
    "\n",
    "scores"
   ]
  },
  {
   "cell_type": "markdown",
   "id": "ea67ce3c",
   "metadata": {},
   "source": [
    "## 딕셔너리명.pop(키, 기본값)"
   ]
  },
  {
   "cell_type": "code",
   "execution_count": 29,
   "id": "78d25ef5",
   "metadata": {},
   "outputs": [
    {
     "name": "stdout",
     "output_type": "stream",
     "text": [
      "100\n",
      "{'eng': 90, 'math': 80}\n"
     ]
    }
   ],
   "source": [
    "scores = {'kor' : 100, 'eng':90, 'math':80}\n",
    "\n",
    "kor = scores.pop('kor')\n",
    "\n",
    "print(kor)\n",
    "print(scores)"
   ]
  },
  {
   "cell_type": "code",
   "execution_count": 30,
   "id": "f09bdfa2",
   "metadata": {},
   "outputs": [
    {
     "name": "stdout",
     "output_type": "stream",
     "text": [
      "x\n",
      "{'kor': 100, 'eng': 90, 'math': 80}\n"
     ]
    }
   ],
   "source": [
    "scores = {'kor' : 100, 'eng':90, 'math':80}\n",
    "\n",
    "music = scores.pop('music','x')\n",
    "\n",
    "print(music)\n",
    "print(scores)"
   ]
  },
  {
   "cell_type": "markdown",
   "id": "99ee584f",
   "metadata": {},
   "source": [
    "## 딕셔너리명.clear()"
   ]
  },
  {
   "cell_type": "code",
   "execution_count": 31,
   "id": "923554ae",
   "metadata": {},
   "outputs": [
    {
     "name": "stdout",
     "output_type": "stream",
     "text": [
      "{}\n"
     ]
    }
   ],
   "source": [
    "scores = {'kor' : 100, 'eng':90, 'math':80}\n",
    "\n",
    "scores.clear()\n",
    "print(scores)"
   ]
  },
  {
   "cell_type": "markdown",
   "id": "8403bc49",
   "metadata": {},
   "source": [
    "# 딕셔너리의 키, 값 모두 리스트 형태로 가져오기"
   ]
  },
  {
   "cell_type": "markdown",
   "id": "909aef26",
   "metadata": {},
   "source": [
    "## 딕셔너리명.keys()"
   ]
  },
  {
   "cell_type": "code",
   "execution_count": 32,
   "id": "cf8abe30",
   "metadata": {},
   "outputs": [
    {
     "data": {
      "text/plain": [
       "dict_keys(['kor', 'eng', 'math'])"
      ]
     },
     "execution_count": 32,
     "metadata": {},
     "output_type": "execute_result"
    }
   ],
   "source": [
    "scores = {'kor' : 100, 'eng':90, 'math':80}\n",
    "\n",
    "scores.keys()"
   ]
  },
  {
   "cell_type": "markdown",
   "id": "0023b3cf",
   "metadata": {},
   "source": [
    "완전한 리스트는 아니고 객체를 가져오는 것인데 리스트처럼 사용 가능함"
   ]
  },
  {
   "cell_type": "markdown",
   "id": "d9914226",
   "metadata": {},
   "source": [
    "## 딕셔너리명.values()"
   ]
  },
  {
   "cell_type": "code",
   "execution_count": 33,
   "id": "4b61f0c8",
   "metadata": {},
   "outputs": [
    {
     "data": {
      "text/plain": [
       "dict_values([100, 90, 80])"
      ]
     },
     "execution_count": 33,
     "metadata": {},
     "output_type": "execute_result"
    }
   ],
   "source": [
    "scores = {'kor' : 100, 'eng':90, 'math':80}\n",
    "\n",
    "scores.values()"
   ]
  },
  {
   "cell_type": "markdown",
   "id": "325dc738",
   "metadata": {},
   "source": [
    "## 딕셔너리명.items()"
   ]
  },
  {
   "cell_type": "code",
   "execution_count": 34,
   "id": "4af3f8bb",
   "metadata": {},
   "outputs": [
    {
     "data": {
      "text/plain": [
       "dict_items([('kor', 100), ('eng', 90), ('math', 80)])"
      ]
     },
     "execution_count": 34,
     "metadata": {},
     "output_type": "execute_result"
    }
   ],
   "source": [
    "scores = {'kor':100, 'eng':90, 'math':80}\n",
    "scores.items()"
   ]
  },
  {
   "cell_type": "markdown",
   "id": "0f681ec4",
   "metadata": {},
   "source": [
    "# for문으로 딕셔너리 출력하기"
   ]
  },
  {
   "cell_type": "markdown",
   "id": "68bf1888",
   "metadata": {},
   "source": [
    "## for문으로 딕셔너리의 키만 출력하기"
   ]
  },
  {
   "cell_type": "code",
   "execution_count": 35,
   "id": "39a4f5cc",
   "metadata": {},
   "outputs": [
    {
     "name": "stdout",
     "output_type": "stream",
     "text": [
      "kor\n",
      "eng\n",
      "math\n"
     ]
    }
   ],
   "source": [
    "scores = {'kor' : 100, 'eng':90, 'math':80}\n",
    "\n",
    "for i in scores.keys():\n",
    "    print(i)\n",
    "    \n",
    "    "
   ]
  },
  {
   "cell_type": "code",
   "execution_count": 37,
   "id": "d589a980",
   "metadata": {},
   "outputs": [
    {
     "name": "stdout",
     "output_type": "stream",
     "text": [
      "kor\n",
      "eng\n",
      "math\n"
     ]
    }
   ],
   "source": [
    "for i in scores:\n",
    "    print(i)"
   ]
  },
  {
   "cell_type": "markdown",
   "id": "f4549a8c",
   "metadata": {},
   "source": [
    "## for문으로 딕셔너리의 value만 출력하기"
   ]
  },
  {
   "cell_type": "code",
   "execution_count": 38,
   "id": "e4701680",
   "metadata": {},
   "outputs": [
    {
     "name": "stdout",
     "output_type": "stream",
     "text": [
      "100\n",
      "90\n",
      "80\n"
     ]
    }
   ],
   "source": [
    "scores = {'kor' : 100, 'eng':90, 'math':80}\n",
    "\n",
    "for i in scores.values():\n",
    "    print(i)"
   ]
  },
  {
   "cell_type": "markdown",
   "id": "36430add",
   "metadata": {},
   "source": [
    "## for문으로 딕셔너리의 key, value 출력하기"
   ]
  },
  {
   "cell_type": "code",
   "execution_count": 39,
   "id": "b4f0af57",
   "metadata": {},
   "outputs": [
    {
     "name": "stdout",
     "output_type": "stream",
     "text": [
      "('kor', 100)\n",
      "('eng', 90)\n",
      "('math', 80)\n"
     ]
    }
   ],
   "source": [
    "scores = {'kor' : 100, 'eng':90, 'math':80}\n",
    "\n",
    "for i in scores.items():\n",
    "    print(i)"
   ]
  },
  {
   "cell_type": "code",
   "execution_count": 40,
   "id": "461c27d3",
   "metadata": {},
   "outputs": [
    {
     "name": "stdout",
     "output_type": "stream",
     "text": [
      "kor 100\n",
      "eng 90\n",
      "math 80\n"
     ]
    }
   ],
   "source": [
    "scores = {'kor' : 100, 'eng':90, 'math':80}\n",
    "\n",
    "for k,v in scores.items():\n",
    "    print(k,v)"
   ]
  },
  {
   "cell_type": "markdown",
   "id": "fabb40ac",
   "metadata": {},
   "source": [
    "# 딕셔너리 정리하기"
   ]
  },
  {
   "cell_type": "markdown",
   "id": "5d56078d",
   "metadata": {},
   "source": [
    "## 키 정렬하기"
   ]
  },
  {
   "cell_type": "code",
   "execution_count": 41,
   "id": "33dac743",
   "metadata": {},
   "outputs": [
    {
     "data": {
      "text/plain": [
       "['eng', 'kor', 'math']"
      ]
     },
     "execution_count": 41,
     "metadata": {},
     "output_type": "execute_result"
    }
   ],
   "source": [
    "scores = {'kor' : 100, 'eng':90, 'math':80}\n",
    "\n",
    "sorted(scores.keys())"
   ]
  },
  {
   "cell_type": "markdown",
   "id": "6a1cb8d9",
   "metadata": {},
   "source": [
    "## 값 정렬하기"
   ]
  },
  {
   "cell_type": "code",
   "execution_count": 42,
   "id": "6180ec0f",
   "metadata": {},
   "outputs": [
    {
     "data": {
      "text/plain": [
       "[80, 90, 100]"
      ]
     },
     "execution_count": 42,
     "metadata": {},
     "output_type": "execute_result"
    }
   ],
   "source": [
    "scores = {'kor' : 100, 'eng':90, 'math':80}\n",
    "\n",
    "sorted(scores.values())"
   ]
  },
  {
   "cell_type": "markdown",
   "id": "d554dce3",
   "metadata": {},
   "source": [
    "## (키, 값) 정렬하기"
   ]
  },
  {
   "cell_type": "markdown",
   "id": "030daec6",
   "metadata": {},
   "source": [
    "sort() 는 지원하지 않음"
   ]
  },
  {
   "cell_type": "code",
   "execution_count": 43,
   "id": "fccc32ee",
   "metadata": {},
   "outputs": [
    {
     "data": {
      "text/plain": [
       "[('eng', 90), ('kor', 100), ('math', 80)]"
      ]
     },
     "execution_count": 43,
     "metadata": {},
     "output_type": "execute_result"
    }
   ],
   "source": [
    "scores = {'kor' : 100, 'eng':90, 'math':80}\n",
    "\n",
    "sorted(scores.items())"
   ]
  },
  {
   "cell_type": "markdown",
   "id": "5c9934fa",
   "metadata": {},
   "source": [
    "# 딕셔너리 연습하기"
   ]
  },
  {
   "cell_type": "code",
   "execution_count": 51,
   "id": "1256b070",
   "metadata": {},
   "outputs": [
    {
     "name": "stdout",
     "output_type": "stream",
     "text": [
      "word : korean\n",
      "meaning : 한글\n",
      "word : english\n",
      "meaning : 영어\n",
      "word : music\n",
      "meaning : 음악\n",
      "word : \n",
      "//////////단어테스트///////////\n",
      "단어 : korean\n",
      "answer : 한굴\n",
      "단어 : english\n",
      "answer : 영어\n",
      "단어 : music\n",
      "answer : 음악\n",
      "전체개수 : 3\n",
      "맞은개수 : 2\n"
     ]
    }
   ],
   "source": [
    "book = {}\n",
    "count = 0\n",
    "while True:\n",
    "    word = input('word : ')\n",
    "    if word == '':\n",
    "        break\n",
    "    meaning = input('meaning : ')    \n",
    "    book[word] = meaning\n",
    "\n",
    "print('//////////단어테스트///////////')\n",
    "for i in book.keys():\n",
    "    print(f'단어 : {i}')\n",
    "    answer = input('answer : ')\n",
    "    if answer == book[i]:\n",
    "        count +=1\n",
    "print(f'전체개수 : {len(book)}')\n",
    "print(f'맞은개수 : {count}')"
   ]
  }
 ],
 "metadata": {
  "kernelspec": {
   "display_name": "Python 3 (ipykernel)",
   "language": "python",
   "name": "python3"
  },
  "language_info": {
   "codemirror_mode": {
    "name": "ipython",
    "version": 3
   },
   "file_extension": ".py",
   "mimetype": "text/x-python",
   "name": "python",
   "nbconvert_exporter": "python",
   "pygments_lexer": "ipython3",
   "version": "3.9.7"
  },
  "toc": {
   "base_numbering": 1,
   "nav_menu": {},
   "number_sections": true,
   "sideBar": true,
   "skip_h1_title": false,
   "title_cell": "Table of Contents",
   "title_sidebar": "Contents",
   "toc_cell": false,
   "toc_position": {},
   "toc_section_display": true,
   "toc_window_display": false
  }
 },
 "nbformat": 4,
 "nbformat_minor": 5
}
